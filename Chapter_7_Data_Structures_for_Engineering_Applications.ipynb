{
 "cells": [
  {
   "cell_type": "markdown",
   "id": "f351269d",
   "metadata": {},
   "source": [
    "# Chapter 7: Data Structures for Engineering Applications"
   ]
  },
  {
   "cell_type": "markdown",
   "id": "b0afeb39",
   "metadata": {},
   "source": [
    "## 1. Theory: Lists, Dictionaries, Tuples, and Sets"
   ]
  },
  {
   "cell_type": "markdown",
   "id": "87b5ab8f",
   "metadata": {},
   "source": [
    "### Lists\n",
    "- Ordered and mutable.\n",
    "- Used to store multiple items in a single variable.\n",
    "\n",
    "#### Example:\n",
    "```python\n",
    "materials = [\"Steel\", \"Concrete\", \"Aluminum\"]\n",
    "```\n",
    "\n",
    "### Dictionaries\n",
    "- Unordered and mutable.\n",
    "- Used to store data in key-value pairs.\n",
    "\n",
    "#### Example:\n",
    "```python\n",
    "properties = {\"density\": 7850, \"thermal_conductivity\": 50}\n",
    "```\n",
    "\n",
    "### Tuples\n",
    "- Ordered and immutable.\n",
    "- Used to store fixed collections of items.\n",
    "\n",
    "#### Example:\n",
    "```python\n",
    "coordinates = (10, 20, 30)\n",
    "```\n",
    "\n",
    "### Sets\n",
    "- Unordered and mutable.\n",
    "- Do not allow duplicate values.\n",
    "\n",
    "#### Example:\n",
    "```python\n",
    "unique_materials = {\"Steel\", \"Concrete\", \"Steel\"}\n",
    "# Results in: {\"Steel\", \"Concrete\"}\n",
    "```"
   ]
  },
  {
   "cell_type": "markdown",
   "id": "a5151509",
   "metadata": {},
   "source": [
    "## 2. Example Code: Create Engineering-Related Data Structures"
   ]
  },
  {
   "cell_type": "code",
   "execution_count": null,
   "id": "24371881",
   "metadata": {},
   "outputs": [],
   "source": [
    "# Example 1: Using a list to store materials\n",
    "materials = [\"Steel\", \"Concrete\", \"Aluminum\"]\n",
    "print(\"Materials:\", materials)\n",
    "\n",
    "# Adding an item\n",
    "materials.append(\"Copper\")\n",
    "print(\"Updated Materials:\", materials)"
   ]
  },
  {
   "cell_type": "code",
   "execution_count": null,
   "id": "38bcbe7a",
   "metadata": {},
   "outputs": [],
   "source": [
    "# Example 2: Using a dictionary for material properties\n",
    "material_properties = {\n",
    "    \"Steel\": {\"density\": 7850, \"thermal_conductivity\": 50},\n",
    "    \"Concrete\": {\"density\": 2400, \"thermal_conductivity\": 1.7}\n",
    "}\n",
    "\n",
    "print(\"Properties of Steel:\", material_properties[\"Steel\"])\n",
    "print(\"Density of Concrete:\", material_properties[\"Concrete\"][\"density\"])"
   ]
  },
  {
   "cell_type": "code",
   "execution_count": null,
   "id": "fe0a8092",
   "metadata": {},
   "outputs": [],
   "source": [
    "# Example 3: Using a tuple to represent coordinates\n",
    "coordinates = (10, 20, 30)\n",
    "print(\"Coordinates:\", coordinates)"
   ]
  },
  {
   "cell_type": "code",
   "execution_count": null,
   "id": "9441b148",
   "metadata": {},
   "outputs": [],
   "source": [
    "# Example 4: Using a set to store unique materials\n",
    "unique_materials = {\"Steel\", \"Concrete\", \"Steel\"}\n",
    "print(\"Unique Materials:\", unique_materials)"
   ]
  },
  {
   "cell_type": "markdown",
   "id": "be53d2b6",
   "metadata": {},
   "source": [
    "## 3. Knowledge Check"
   ]
  },
  {
   "cell_type": "markdown",
   "id": "cdfc973b",
   "metadata": {},
   "source": [
    "### Exercise 1"
   ]
  },
  {
   "cell_type": "markdown",
   "id": "535de57a",
   "metadata": {},
   "source": [
    "Write a program that:\n",
    "1. Creates a list of five engineering materials.\n",
    "2. Prints the list.\n",
    "3. Removes the third item from the list and prints the updated list."
   ]
  },
  {
   "cell_type": "code",
   "execution_count": null,
   "id": "7fe99459",
   "metadata": {},
   "outputs": [],
   "source": [
    "# Solution for Exercise 1\n",
    "materials = [\"Steel\", \"Concrete\", \"Aluminum\", \"Copper\", \"Plastic\"]\n",
    "print(\"Original List:\", materials)\n",
    "\n",
    "# Removing the third item\n",
    "materials.pop(2)\n",
    "print(\"Updated List:\", materials)"
   ]
  },
  {
   "cell_type": "markdown",
   "id": "cd75e6b5",
   "metadata": {},
   "source": [
    "### Exercise 2"
   ]
  },
  {
   "cell_type": "markdown",
   "id": "c6759d98",
   "metadata": {},
   "source": [
    "Write a program that:\n",
    "1. Creates a dictionary of three materials and their densities.\n",
    "2. Prints the density of one material."
   ]
  },
  {
   "cell_type": "code",
   "execution_count": null,
   "id": "8884957b",
   "metadata": {},
   "outputs": [],
   "source": [
    "# Solution for Exercise 2\n",
    "material_densities = {\n",
    "    \"Steel\": 7850,\n",
    "    \"Concrete\": 2400,\n",
    "    \"Aluminum\": 2700\n",
    "}\n",
    "\n",
    "# Print the density of Steel\n",
    "print(\"Density of Steel:\", material_densities[\"Steel\"])"
   ]
  },
  {
   "cell_type": "markdown",
   "id": "15a27587",
   "metadata": {},
   "source": [
    "### Exercise 3"
   ]
  },
  {
   "cell_type": "markdown",
   "id": "8e0da312",
   "metadata": {},
   "source": [
    "Write a program that:\n",
    "1. Creates a set of unique engineering tools.\n",
    "2. Adds a new tool to the set and prints the updated set."
   ]
  },
  {
   "cell_type": "code",
   "execution_count": null,
   "id": "797335f2",
   "metadata": {},
   "outputs": [],
   "source": [
    "# Solution for Exercise 3\n",
    "tools = {\"Hammer\", \"Wrench\", \"Screwdriver\"}\n",
    "print(\"Original Set:\", tools)\n",
    "\n",
    "# Adding a new tool\n",
    "tools.add(\"Pliers\")\n",
    "print(\"Updated Set:\", tools)"
   ]
  }
 ],
 "metadata": {
  "kernelspec": {
   "display_name": "Python 3 (ipykernel)",
   "language": "python",
   "name": "python3"
  },
  "language_info": {
   "codemirror_mode": {
    "name": "ipython",
    "version": 3
   },
   "file_extension": ".py",
   "mimetype": "text/x-python",
   "name": "python",
   "nbconvert_exporter": "python",
   "pygments_lexer": "ipython3",
   "version": "3.11.7"
  }
 },
 "nbformat": 4,
 "nbformat_minor": 5
}
