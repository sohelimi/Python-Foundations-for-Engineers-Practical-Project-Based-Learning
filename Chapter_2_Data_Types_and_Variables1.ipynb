{
 "cells": [
  {
   "cell_type": "markdown",
   "id": "43c33989",
   "metadata": {},
   "source": [
    "# Chapter 2: Data Types and Variables"
   ]
  },
  {
   "cell_type": "markdown",
   "id": "5834488a",
   "metadata": {},
   "source": [
    "## 1. Theory: Understanding Data Types and Variables"
   ]
  },
  {
   "cell_type": "markdown",
   "id": "9d13e594",
   "metadata": {},
   "source": [
    "### Data Types\n",
    "Python has several basic data types used to represent different kinds of data:\n",
    "- **Integers (`int`)**: Whole numbers (e.g., `10`, `-5`).\n",
    "- **Floats (`float`)**: Decimal numbers (e.g., `3.14`, `-2.5`).\n",
    "- **Strings (`str`)**: Text data (e.g., `\"hello\"`, `'world'`).\n",
    "- **Booleans (`bool`)**: True or False values.\n",
    "\n",
    "### Variable Assignment\n",
    "A variable is a container for storing data. You can assign a value to a variable using the `=` operator.\n",
    "\n",
    "#### Example:\n",
    "```python\n",
    "age = 25  # Integer\n",
    "height = 5.9  # Float\n",
    "name = \"John Doe\"  # String\n",
    "is_student = True  # Boolean\n",
    "```\n",
    "\n",
    "You can use variables to store, update, and retrieve data in your program."
   ]
  },
  {
   "cell_type": "markdown",
   "id": "376e1928",
   "metadata": {},
   "source": [
    "## 2. Example Code: Basic Calculations and String Manipulations"
   ]
  },
  {
   "cell_type": "code",
   "execution_count": null,
   "id": "0ad5e877",
   "metadata": {},
   "outputs": [],
   "source": [
    "# Example 1: Basic Calculations\n",
    "num1 = 10\n",
    "num2 = 20\n",
    "\n",
    "# Performing addition\n",
    "sum_result = num1 + num2\n",
    "print(\"Sum:\", sum_result)\n",
    "\n",
    "# Performing multiplication\n",
    "product_result = num1 * num2\n",
    "print(\"Product:\", product_result)"
   ]
  },
  {
   "cell_type": "code",
   "execution_count": null,
   "id": "c49ef762",
   "metadata": {},
   "outputs": [],
   "source": [
    "# Example 2: String Manipulations\n",
    "greeting = \"Hello\"\n",
    "name = \"Alice\"\n",
    "\n",
    "# Concatenating strings\n",
    "welcome_message = greeting + \" \" + name\n",
    "print(\"Welcome message:\", welcome_message)\n",
    "\n",
    "# Repeating strings\n",
    "repeated_message = greeting * 3\n",
    "print(\"Repeated message:\", repeated_message)"
   ]
  },
  {
   "cell_type": "markdown",
   "id": "9f605da8",
   "metadata": {},
   "source": [
    "## 3. Knowledge Check"
   ]
  },
  {
   "cell_type": "markdown",
   "id": "00be393a",
   "metadata": {},
   "source": [
    "### Exercise 1\n",
    "Define a variable called `temperature` and assign it the value `25`. Print the variable.\n",
    "\n",
    "### Exercise 2\n",
    "Write a program that:\n",
    "1. Takes a user's first name and last name as input.\n",
    "2. Prints the full name by concatenating the inputs.\n",
    "\n",
    "### Exercise 3\n",
    "Perform and print the result of the following calculations using variables:\n",
    "1. Subtract `15` from `45`.\n",
    "2. Divide `100` by `5`."
   ]
  }
 ],
 "metadata": {
  "kernelspec": {
   "display_name": "Python 3 (ipykernel)",
   "language": "python",
   "name": "python3"
  },
  "language_info": {
   "codemirror_mode": {
    "name": "ipython",
    "version": 3
   },
   "file_extension": ".py",
   "mimetype": "text/x-python",
   "name": "python",
   "nbconvert_exporter": "python",
   "pygments_lexer": "ipython3",
   "version": "3.11.7"
  }
 },
 "nbformat": 4,
 "nbformat_minor": 5
}
