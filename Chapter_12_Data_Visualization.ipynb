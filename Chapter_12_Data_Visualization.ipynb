{
 "cells": [
  {
   "cell_type": "markdown",
   "id": "0df33367",
   "metadata": {},
   "source": [
    "# Chapter 12: Data Visualization"
   ]
  },
  {
   "cell_type": "markdown",
   "id": "d27d9989",
   "metadata": {},
   "source": [
    "## 1. Theory: Visualizing Data and Its Importance in Engineering"
   ]
  },
  {
   "cell_type": "markdown",
   "id": "31964ac8",
   "metadata": {},
   "source": [
    "### Importance of Data Visualization\n",
    "Data visualization involves representing data graphically to identify patterns, trends, and insights.\n",
    "\n",
    "#### Why Visualize Data?\n",
    "- To understand large and complex datasets.\n",
    "- To communicate findings effectively.\n",
    "- To identify trends, outliers, and relationships.\n",
    "\n",
    "#### Common Types of Plots\n",
    "- **Line Plot**: Shows trends over time or a sequence.\n",
    "- **Bar Chart**: Compares quantities across categories.\n",
    "- **Histogram**: Shows the frequency distribution of data.\n",
    "- **Scatter Plot**: Displays relationships between two variables.\n",
    "\n",
    "#### Tools for Visualization\n",
    "- **Matplotlib**: A versatile library for creating static, interactive, and animated plots.\n",
    "- **Seaborn**: Built on top of Matplotlib for more aesthetically pleasing plots.\n"
   ]
  },
  {
   "cell_type": "markdown",
   "id": "7fe84b11",
   "metadata": {},
   "source": [
    "## 2. Example Code: Creating Plots with Matplotlib"
   ]
  },
  {
   "cell_type": "code",
   "execution_count": null,
   "id": "b3160d55",
   "metadata": {},
   "outputs": [],
   "source": [
    "# Example 1: Line Plot\n",
    "import matplotlib.pyplot as plt\n",
    "\n",
    "# Data\n",
    "x = [0, 1, 2, 3, 4, 5]\n",
    "y = [0, 1, 4, 9, 16, 25]\n",
    "\n",
    "# Create a line plot\n",
    "plt.plot(x, y, marker='o', color='blue', label=\"y = x^2\")\n",
    "plt.xlabel(\"X-axis\")\n",
    "plt.ylabel(\"Y-axis\")\n",
    "plt.title(\"Line Plot Example\")\n",
    "plt.legend()\n",
    "plt.grid(True)\n",
    "plt.show()"
   ]
  },
  {
   "cell_type": "code",
   "execution_count": null,
   "id": "ccc4176c",
   "metadata": {},
   "outputs": [],
   "source": [
    "# Example 2: Bar Chart\n",
    "# Data\n",
    "categories = [\"Steel\", \"Concrete\", \"Aluminum\"]\n",
    "values = [7850, 2400, 2700]\n",
    "\n",
    "# Create a bar chart\n",
    "plt.bar(categories, values, color=['blue', 'gray', 'orange'])\n",
    "plt.xlabel(\"Material\")\n",
    "plt.ylabel(\"Density (kg/m^3)\")\n",
    "plt.title(\"Material Densities\")\n",
    "plt.show()"
   ]
  },
  {
   "cell_type": "code",
   "execution_count": null,
   "id": "a70d458c",
   "metadata": {},
   "outputs": [],
   "source": [
    "# Example 3: Scatter Plot\n",
    "# Data\n",
    "x = [1, 2, 3, 4, 5]\n",
    "y = [2, 4, 1, 8, 7]\n",
    "\n",
    "# Create a scatter plot\n",
    "plt.scatter(x, y, color='red', label=\"Data points\")\n",
    "plt.xlabel(\"X-axis\")\n",
    "plt.ylabel(\"Y-axis\")\n",
    "plt.title(\"Scatter Plot Example\")\n",
    "plt.legend()\n",
    "plt.show()"
   ]
  },
  {
   "cell_type": "markdown",
   "id": "c23ffc9e",
   "metadata": {},
   "source": [
    "## 3. Knowledge Check"
   ]
  },
  {
   "cell_type": "markdown",
   "id": "d4f3e1e8",
   "metadata": {},
   "source": [
    "### Exercise 1"
   ]
  },
  {
   "cell_type": "markdown",
   "id": "2723769f",
   "metadata": {},
   "source": [
    "Write a program that:\n",
    "1. Creates a histogram of the following data: `[1, 2, 2, 3, 3, 3, 4, 4, 4, 4, 5, 5]`.\n",
    "2. Adds appropriate labels and a title."
   ]
  },
  {
   "cell_type": "code",
   "execution_count": null,
   "id": "5282b0f1",
   "metadata": {},
   "outputs": [],
   "source": [
    "# Solution for Exercise 1\n",
    "import matplotlib.pyplot as plt\n",
    "\n",
    "# Data\n",
    "data = [1, 2, 2, 3, 3, 3, 4, 4, 4, 4, 5, 5]\n",
    "\n",
    "# Create a histogram\n",
    "plt.hist(data, bins=5, color='green', edgecolor='black')\n",
    "plt.xlabel(\"Value\")\n",
    "plt.ylabel(\"Frequency\")\n",
    "plt.title(\"Histogram Example\")\n",
    "plt.show()"
   ]
  },
  {
   "cell_type": "markdown",
   "id": "d47aa484",
   "metadata": {},
   "source": [
    "### Exercise 2"
   ]
  },
  {
   "cell_type": "markdown",
   "id": "049daebf",
   "metadata": {},
   "source": [
    "Write a program that:\n",
    "1. Creates a pie chart for the following data: \n",
    "   - Categories: `[\"Steel\", \"Concrete\", \"Aluminum\"]`\n",
    "   - Values: `[50, 30, 20]`.\n",
    "2. Adds a title."
   ]
  },
  {
   "cell_type": "code",
   "execution_count": null,
   "id": "e8236d06",
   "metadata": {},
   "outputs": [],
   "source": [
    "# Solution for Exercise 2\n",
    "import matplotlib.pyplot as plt\n",
    "\n",
    "# Data\n",
    "categories = [\"Steel\", \"Concrete\", \"Aluminum\"]\n",
    "values = [50, 30, 20]\n",
    "\n",
    "# Create a pie chart\n",
    "plt.pie(values, labels=categories, autopct='%1.1f%%', startangle=140, colors=['blue', 'gray', 'orange'])\n",
    "plt.title(\"Material Composition\")\n",
    "plt.show()"
   ]
  },
  {
   "cell_type": "markdown",
   "id": "be2f4339",
   "metadata": {},
   "source": [
    "### Exercise 3"
   ]
  },
  {
   "cell_type": "markdown",
   "id": "1e3cb196",
   "metadata": {},
   "source": [
    "Write a program that:\n",
    "1. Creates a line plot for stress-strain data:\n",
    "   - Stress: `[0, 50, 100, 150, 200, 250]`\n",
    "   - Strain: `[0, 0.002, 0.004, 0.006, 0.008, 0.01]`.\n",
    "2. Adds a grid and a legend."
   ]
  },
  {
   "cell_type": "code",
   "execution_count": null,
   "id": "0d4adfcf",
   "metadata": {},
   "outputs": [],
   "source": [
    "# Solution for Exercise 3\n",
    "import matplotlib.pyplot as plt\n",
    "\n",
    "# Stress-strain data\n",
    "stress = [0, 50, 100, 150, 200, 250]\n",
    "strain = [0, 0.002, 0.004, 0.006, 0.008, 0.01]\n",
    "\n",
    "# Create a line plot\n",
    "plt.plot(strain, stress, marker='o', label=\"Stress-Strain Curve\", color='purple')\n",
    "plt.xlabel(\"Strain\")\n",
    "plt.ylabel(\"Stress (MPa)\")\n",
    "plt.title(\"Stress-Strain Relationship\")\n",
    "plt.grid(True)\n",
    "plt.legend()\n",
    "plt.show()"
   ]
  }
 ],
 "metadata": {
  "kernelspec": {
   "display_name": "Python 3 (ipykernel)",
   "language": "python",
   "name": "python3"
  },
  "language_info": {
   "codemirror_mode": {
    "name": "ipython",
    "version": 3
   },
   "file_extension": ".py",
   "mimetype": "text/x-python",
   "name": "python",
   "nbconvert_exporter": "python",
   "pygments_lexer": "ipython3",
   "version": "3.11.7"
  }
 },
 "nbformat": 4,
 "nbformat_minor": 5
}
