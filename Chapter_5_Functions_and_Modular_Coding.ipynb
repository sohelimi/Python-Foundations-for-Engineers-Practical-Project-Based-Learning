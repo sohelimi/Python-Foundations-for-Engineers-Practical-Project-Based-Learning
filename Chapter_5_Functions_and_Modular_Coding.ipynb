{
 "cells": [
  {
   "cell_type": "markdown",
   "id": "a824957a",
   "metadata": {},
   "source": [
    "# Chapter 5: Functions and Modular Coding"
   ]
  },
  {
   "cell_type": "markdown",
   "id": "996a4da3",
   "metadata": {},
   "source": [
    "## 1. Theory: Defining Functions, Arguments, and Return Values"
   ]
  },
  {
   "cell_type": "markdown",
   "id": "ca4b6ceb",
   "metadata": {},
   "source": [
    "### Functions in Python\n",
    "Functions are reusable blocks of code that perform specific tasks. They help in making the code modular, readable, and maintainable.\n",
    "\n",
    "#### Defining a Function\n",
    "```python\n",
    "def function_name(parameters):\n",
    "    # Code block\n",
    "    return value\n",
    "```\n",
    "\n",
    "#### Key Concepts\n",
    "- **Arguments**: Inputs passed to a function.\n",
    "- **Return Values**: Output produced by a function.\n",
    "\n",
    "#### Example:\n",
    "```python\n",
    "def add_numbers(a, b):\n",
    "    return a + b\n",
    "\n",
    "result = add_numbers(5, 3)\n",
    "print(\"Sum:\", result)\n",
    "```"
   ]
  },
  {
   "cell_type": "markdown",
   "id": "8cd79b72",
   "metadata": {},
   "source": [
    "## 2. Example Code: Writing Reusable Functions for Calculations"
   ]
  },
  {
   "cell_type": "code",
   "execution_count": 1,
   "id": "833d12e2",
   "metadata": {},
   "outputs": [
    {
     "name": "stdout",
     "output_type": "stream",
     "text": [
      "Square of 4 is: 16\n"
     ]
    }
   ],
   "source": [
    "# Example 1: Function to calculate the square of a number\n",
    "def square(num):\n",
    "    return num ** 2\n",
    "\n",
    "result = square(4)\n",
    "print(\"Square of 4 is:\", result)"
   ]
  },
  {
   "cell_type": "code",
   "execution_count": 3,
   "id": "25ab39b4",
   "metadata": {},
   "outputs": [
    {
     "name": "stdout",
     "output_type": "stream",
     "text": [
      "Area of the rectangle is: 15\n"
     ]
    }
   ],
   "source": [
    "# Example 2: Function to calculate the area of a rectangle\n",
    "def rectangle_area(length, width):\n",
    "    return length * width\n",
    "\n",
    "area = rectangle_area(5, 3)\n",
    "print(\"Area of the rectangle is:\", area)"
   ]
  },
  {
   "cell_type": "code",
   "execution_count": 5,
   "id": "45b69e68",
   "metadata": {},
   "outputs": [
    {
     "name": "stdout",
     "output_type": "stream",
     "text": [
      "Is 7 even?: False\n"
     ]
    }
   ],
   "source": [
    "# Example 3: Function to check if a number is even or odd\n",
    "def is_even(number):\n",
    "    if number % 2 == 0:\n",
    "        return True\n",
    "    else:\n",
    "        return False\n",
    "\n",
    "num = 7\n",
    "print(f\"Is {num} even?:\", is_even(num))"
   ]
  },
  {
   "cell_type": "markdown",
   "id": "3df022af",
   "metadata": {},
   "source": [
    "## 3. Knowledge Check"
   ]
  },
  {
   "cell_type": "markdown",
   "id": "abf45982",
   "metadata": {},
   "source": [
    "### Exercise 1"
   ]
  },
  {
   "cell_type": "markdown",
   "id": "de9c4212",
   "metadata": {},
   "source": [
    "Write a function called `multiply` that:\n",
    "1. Takes two arguments.\n",
    "2. Returns their product."
   ]
  },
  {
   "cell_type": "code",
   "execution_count": null,
   "id": "d96e2dca",
   "metadata": {},
   "outputs": [],
   "source": [
    "# Solution for Exercise 1\n",
    "def multiply(a, b):\n",
    "    return a * b\n",
    "\n",
    "result = multiply(4, 5)\n",
    "print(\"Product is:\", result)"
   ]
  },
  {
   "cell_type": "markdown",
   "id": "ebc23455",
   "metadata": {},
   "source": [
    "### Exercise 2"
   ]
  },
  {
   "cell_type": "markdown",
   "id": "6e22f772",
   "metadata": {},
   "source": [
    "Write a function called `is_palindrome` that:\n",
    "1. Takes a string as input.\n",
    "2. Returns `True` if the string is a palindrome (reads the same backward and forward) and `False` otherwise."
   ]
  },
  {
   "cell_type": "code",
   "execution_count": null,
   "id": "22f15491",
   "metadata": {},
   "outputs": [],
   "source": [
    "# Solution for Exercise 2\n",
    "def is_palindrome(string):\n",
    "    return string == string[::-1]\n",
    "\n",
    "word = \"radar\"\n",
    "print(f\"Is '{word}' a palindrome?:\", is_palindrome(word))"
   ]
  },
  {
   "cell_type": "markdown",
   "id": "cceb96fa",
   "metadata": {},
   "source": [
    "### Exercise 3"
   ]
  },
  {
   "cell_type": "markdown",
   "id": "c1f2c4db",
   "metadata": {},
   "source": [
    "Write a function called `factorial` that:\n",
    "1. Takes a number as input.\n",
    "2. Returns the factorial of that number."
   ]
  },
  {
   "cell_type": "code",
   "execution_count": null,
   "id": "f670a348",
   "metadata": {},
   "outputs": [],
   "source": [
    "# Solution for Exercise 3\n",
    "def factorial(n):\n",
    "    result = 1\n",
    "    for i in range(1, n + 1):\n",
    "        result *= i\n",
    "    return result\n",
    "\n",
    "num = 5\n",
    "print(f\"Factorial of {num} is:\", factorial(num))"
   ]
  }
 ],
 "metadata": {
  "kernelspec": {
   "display_name": "Python 3 (ipykernel)",
   "language": "python",
   "name": "python3"
  },
  "language_info": {
   "codemirror_mode": {
    "name": "ipython",
    "version": 3
   },
   "file_extension": ".py",
   "mimetype": "text/x-python",
   "name": "python",
   "nbconvert_exporter": "python",
   "pygments_lexer": "ipython3",
   "version": "3.11.7"
  }
 },
 "nbformat": 4,
 "nbformat_minor": 5
}
