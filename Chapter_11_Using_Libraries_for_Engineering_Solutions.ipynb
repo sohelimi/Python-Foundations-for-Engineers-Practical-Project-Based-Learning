{
 "cells": [
  {
   "cell_type": "markdown",
   "id": "5ee4b51d",
   "metadata": {},
   "source": [
    "# Chapter 11: Using Libraries for Engineering Solutions"
   ]
  },
  {
   "cell_type": "markdown",
   "id": "9e9541eb",
   "metadata": {},
   "source": [
    "## 1. Theory: Overview of Key Libraries (NumPy, Pandas, Matplotlib)"
   ]
  },
  {
   "cell_type": "markdown",
   "id": "295d9eaf",
   "metadata": {},
   "source": [
    "### Key Libraries for Engineering Solutions\n",
    "\n",
    "#### NumPy\n",
    "- Used for numerical computations.\n",
    "- Provides support for arrays, matrices, and mathematical operations.\n",
    "\n",
    "#### Pandas\n",
    "- Used for data manipulation and analysis.\n",
    "- Provides DataFrame and Series data structures.\n",
    "\n",
    "#### Matplotlib\n",
    "- Used for creating visualizations.\n",
    "- Supports line plots, bar charts, scatter plots, and more.\n",
    "\n",
    "#### Installation\n",
    "Install these libraries using pip:\n",
    "```bash\n",
    "pip install numpy pandas matplotlib\n",
    "```"
   ]
  },
  {
   "cell_type": "markdown",
   "id": "61d4ec2f",
   "metadata": {},
   "source": [
    "## 2. Example Code: Small Projects Leveraging Libraries for Calculations and Data Handling"
   ]
  },
  {
   "cell_type": "code",
   "execution_count": null,
   "id": "e2f51e4c",
   "metadata": {},
   "outputs": [],
   "source": [
    "# Example 1: Using NumPy for matrix operations\n",
    "import numpy as np\n",
    "\n",
    "# Create two matrices\n",
    "matrix1 = np.array([[1, 2], [3, 4]])\n",
    "matrix2 = np.array([[5, 6], [7, 8]])\n",
    "\n",
    "# Matrix addition\n",
    "sum_matrix = matrix1 + matrix2\n",
    "print(\"Matrix Addition:\\n\", sum_matrix)\n",
    "\n",
    "# Matrix multiplication\n",
    "product_matrix = np.dot(matrix1, matrix2)\n",
    "print(\"Matrix Multiplication:\\n\", product_matrix)"
   ]
  },
  {
   "cell_type": "code",
   "execution_count": null,
   "id": "4f1f99d4",
   "metadata": {},
   "outputs": [],
   "source": [
    "# Example 2: Using Pandas for data handling\n",
    "import pandas as pd\n",
    "\n",
    "# Create a DataFrame\n",
    "data = {\n",
    "    \"Material\": [\"Steel\", \"Concrete\", \"Aluminum\"],\n",
    "    \"Density (kg/m^3)\": [7850, 2400, 2700],\n",
    "    \"Thermal Conductivity (W/mK)\": [50, 1.7, 237]\n",
    "}\n",
    "df = pd.DataFrame(data)\n",
    "\n",
    "# Display the DataFrame\n",
    "print(\"DataFrame:\")\n",
    "print(df)\n",
    "\n",
    "# Filter materials with density greater than 3000\n",
    "filtered_df = df[df[\"Density (kg/m^3)\"] > 3000]\n",
    "print(\"\\nFiltered DataFrame:\")\n",
    "print(filtered_df)"
   ]
  },
  {
   "cell_type": "code",
   "execution_count": null,
   "id": "0126e84f",
   "metadata": {},
   "outputs": [],
   "source": [
    "# Example 3: Using Matplotlib for plotting\n",
    "import matplotlib.pyplot as plt\n",
    "\n",
    "# Sample data\n",
    "materials = [\"Steel\", \"Concrete\", \"Aluminum\"]\n",
    "densities = [7850, 2400, 2700]\n",
    "\n",
    "# Create a bar chart\n",
    "plt.bar(materials, densities, color=['blue', 'gray', 'orange'])\n",
    "plt.xlabel(\"Material\")\n",
    "plt.ylabel(\"Density (kg/m^3)\")\n",
    "plt.title(\"Density of Materials\")\n",
    "plt.show()"
   ]
  },
  {
   "cell_type": "markdown",
   "id": "12f469d5",
   "metadata": {},
   "source": [
    "## 3. Knowledge Check"
   ]
  },
  {
   "cell_type": "markdown",
   "id": "225328d9",
   "metadata": {},
   "source": [
    "### Exercise 1"
   ]
  },
  {
   "cell_type": "markdown",
   "id": "acaeb720",
   "metadata": {},
   "source": [
    "Write a program that:\n",
    "1. Creates a NumPy array of numbers from 1 to 10.\n",
    "2. Calculates the square of each number and prints the result."
   ]
  },
  {
   "cell_type": "code",
   "execution_count": null,
   "id": "a26d2a74",
   "metadata": {},
   "outputs": [],
   "source": [
    "# Solution for Exercise 1\n",
    "import numpy as np\n",
    "\n",
    "# Create a NumPy array\n",
    "numbers = np.arange(1, 11)\n",
    "\n",
    "# Calculate the square of each number\n",
    "squares = np.square(numbers)\n",
    "print(\"Squares:\", squares)"
   ]
  },
  {
   "cell_type": "markdown",
   "id": "f296a444",
   "metadata": {},
   "source": [
    "### Exercise 2"
   ]
  },
  {
   "cell_type": "markdown",
   "id": "88d3cf3e",
   "metadata": {},
   "source": [
    "Write a program that:\n",
    "1. Creates a Pandas DataFrame with columns `Material` and `Price`.\n",
    "2. Filters materials with a price greater than 50 and prints the result."
   ]
  },
  {
   "cell_type": "code",
   "execution_count": null,
   "id": "8442ba38",
   "metadata": {},
   "outputs": [],
   "source": [
    "# Solution for Exercise 2\n",
    "import pandas as pd\n",
    "\n",
    "# Create a DataFrame\n",
    "data = {\n",
    "    \"Material\": [\"Steel\", \"Concrete\", \"Aluminum\"],\n",
    "    \"Price\": [60, 40, 80]\n",
    "}\n",
    "df = pd.DataFrame(data)\n",
    "\n",
    "# Filter materials with price > 50\n",
    "filtered_df = df[df[\"Price\"] > 50]\n",
    "print(\"Filtered DataFrame:\")\n",
    "print(filtered_df)"
   ]
  },
  {
   "cell_type": "markdown",
   "id": "dd98c56b",
   "metadata": {},
   "source": [
    "### Exercise 3"
   ]
  },
  {
   "cell_type": "markdown",
   "id": "a97cfa41",
   "metadata": {},
   "source": [
    "Write a program that:\n",
    "1. Uses Matplotlib to plot a line graph of stress-strain data.\n",
    "2. Stress values: [0, 100, 200, 300, 400, 500]\n",
    "3. Strain values: [0, 0.01, 0.015, 0.02, 0.03, 0.04]"
   ]
  },
  {
   "cell_type": "code",
   "execution_count": null,
   "id": "d4baa455",
   "metadata": {},
   "outputs": [],
   "source": [
    "# Solution for Exercise 3\n",
    "import matplotlib.pyplot as plt\n",
    "\n",
    "# Stress and strain data\n",
    "stress = [0, 100, 200, 300, 400, 500]\n",
    "strain = [0, 0.01, 0.015, 0.02, 0.03, 0.04]\n",
    "\n",
    "# Plot the line graph\n",
    "plt.plot(strain, stress, marker='o')\n",
    "plt.xlabel(\"Strain\")\n",
    "plt.ylabel(\"Stress (MPa)\")\n",
    "plt.title(\"Stress-Strain Curve\")\n",
    "plt.grid(True)\n",
    "plt.show()"
   ]
  }
 ],
 "metadata": {
  "kernelspec": {
   "display_name": "Python 3 (ipykernel)",
   "language": "python",
   "name": "python3"
  },
  "language_info": {
   "codemirror_mode": {
    "name": "ipython",
    "version": 3
   },
   "file_extension": ".py",
   "mimetype": "text/x-python",
   "name": "python",
   "nbconvert_exporter": "python",
   "pygments_lexer": "ipython3",
   "version": "3.11.7"
  }
 },
 "nbformat": 4,
 "nbformat_minor": 5
}
