{
 "cells": [
  {
   "cell_type": "markdown",
   "id": "341c011f",
   "metadata": {},
   "source": [
    "# Chapter 6: Error Handling and Debugging"
   ]
  },
  {
   "cell_type": "markdown",
   "id": "49ca579e",
   "metadata": {},
   "source": [
    "## 1. Theory: Basics of Exceptions and Debugging Strategies"
   ]
  },
  {
   "cell_type": "markdown",
   "id": "4f71176a",
   "metadata": {},
   "source": [
    "### What are Exceptions?\n",
    "Exceptions are errors that occur during the execution of a program, disrupting its normal flow.\n",
    "\n",
    "#### Common Python Exceptions:\n",
    "- `ZeroDivisionError`: Division by zero.\n",
    "- `TypeError`: Invalid operation between incompatible data types.\n",
    "- `ValueError`: Invalid value provided to a function.\n",
    "- `IndexError`: Accessing an invalid index in a list.\n",
    "\n",
    "### Handling Exceptions with `try` and `except`\n",
    "You can handle exceptions using the `try` and `except` blocks:\n",
    "```python\n",
    "try:\n",
    "    # Code that may raise an exception\n",
    "except ExceptionType:\n",
    "    # Code to handle the exception\n",
    "```\n",
    "\n",
    "#### Example:\n",
    "```python\n",
    "try:\n",
    "    num = int(input(\"Enter a number: \"))\n",
    "    result = 10 / num\n",
    "    print(\"Result:\", result)\n",
    "except ZeroDivisionError:\n",
    "    print(\"Error: Cannot divide by zero.\")\n",
    "except ValueError:\n",
    "    print(\"Error: Invalid input. Please enter a number.\")\n",
    "```\n",
    "\n",
    "### Debugging Strategies\n",
    "Debugging is the process of identifying and fixing errors in your code. Strategies include:\n",
    "1. **Print Statements**: Add print statements to check variable values.\n",
    "2. **Use a Debugger**: Use tools like `pdb` or IDE debuggers.\n",
    "3. **Divide and Conquer**: Break the code into smaller parts and test each part.\n",
    "4. **Check Documentation**: Refer to documentation for the correct usage of functions."
   ]
  },
  {
   "cell_type": "markdown",
   "id": "6f4161b6",
   "metadata": {},
   "source": [
    "## 2. Example Code: Handling Common Errors in Engineering Calculations"
   ]
  },
  {
   "cell_type": "code",
   "execution_count": null,
   "id": "69b4af94",
   "metadata": {},
   "outputs": [],
   "source": [
    "# Example 1: Handling division by zero\n",
    "def divide(a, b):\n",
    "    try:\n",
    "        return a / b\n",
    "    except ZeroDivisionError:\n",
    "        return \"Error: Cannot divide by zero.\"\n",
    "\n",
    "print(\"Result:\", divide(10, 0))"
   ]
  },
  {
   "cell_type": "code",
   "execution_count": null,
   "id": "a0322c35",
   "metadata": {},
   "outputs": [],
   "source": [
    "# Example 2: Handling invalid input\n",
    "try:\n",
    "    number = int(input(\"Enter an integer: \"))\n",
    "    print(\"You entered:\", number)\n",
    "except ValueError:\n",
    "    print(\"Error: Invalid input. Please enter an integer.\")"
   ]
  },
  {
   "cell_type": "code",
   "execution_count": null,
   "id": "67d37333",
   "metadata": {},
   "outputs": [],
   "source": [
    "# Example 3: Catching multiple exceptions\n",
    "try:\n",
    "    data = [1, 2, 3]\n",
    "    index = int(input(\"Enter an index: \"))\n",
    "    print(\"Value at index:\", data[index])\n",
    "except IndexError:\n",
    "    print(\"Error: Index out of range.\")\n",
    "except ValueError:\n",
    "    print(\"Error: Please enter a valid integer.\")"
   ]
  },
  {
   "cell_type": "markdown",
   "id": "ddca30e4",
   "metadata": {},
   "source": [
    "## 3. Knowledge Check"
   ]
  },
  {
   "cell_type": "markdown",
   "id": "48449f97",
   "metadata": {},
   "source": [
    "### Exercise 1"
   ]
  },
  {
   "cell_type": "markdown",
   "id": "e95cd5c9",
   "metadata": {},
   "source": [
    "Write a function called `safe_sqrt` that:\n",
    "1. Takes a number as input.\n",
    "2. Returns the square root of the number.\n",
    "3. Catches and handles `ValueError` if the input is negative."
   ]
  },
  {
   "cell_type": "code",
   "execution_count": null,
   "id": "b634560a",
   "metadata": {},
   "outputs": [],
   "source": [
    "# Solution for Exercise 1\n",
    "import math\n",
    "\n",
    "def safe_sqrt(number):\n",
    "    try:\n",
    "        if number < 0:\n",
    "            raise ValueError(\"Cannot calculate square root of a negative number.\")\n",
    "        return math.sqrt(number)\n",
    "    except ValueError as e:\n",
    "        return str(e)\n",
    "\n",
    "print(\"Square root:\", safe_sqrt(-4))"
   ]
  },
  {
   "cell_type": "markdown",
   "id": "5914b05e",
   "metadata": {},
   "source": [
    "### Exercise 2"
   ]
  },
  {
   "cell_type": "markdown",
   "id": "08ddeac1",
   "metadata": {},
   "source": [
    "Write a program that:\n",
    "1. Takes two numbers as input.\n",
    "2. Returns their division.\n",
    "3. Handles both `ZeroDivisionError` and `ValueError`."
   ]
  },
  {
   "cell_type": "code",
   "execution_count": null,
   "id": "7c4fcd14",
   "metadata": {},
   "outputs": [],
   "source": [
    "# Solution for Exercise 2\n",
    "def safe_divide(a, b):\n",
    "    try:\n",
    "        return a / b\n",
    "    except ZeroDivisionError:\n",
    "        return \"Error: Cannot divide by zero.\"\n",
    "    except ValueError:\n",
    "        return \"Error: Invalid input.\"\n",
    "\n",
    "try:\n",
    "    num1 = float(input(\"Enter the first number: \"))\n",
    "    num2 = float(input(\"Enter the second number: \"))\n",
    "    print(\"Result:\", safe_divide(num1, num2))\n",
    "except ValueError:\n",
    "    print(\"Error: Please enter valid numbers.\")"
   ]
  },
  {
   "cell_type": "markdown",
   "id": "38e5c38d",
   "metadata": {},
   "source": [
    "### Exercise 3"
   ]
  },
  {
   "cell_type": "markdown",
   "id": "b89fd709",
   "metadata": {},
   "source": [
    "Write a program that:\n",
    "1. Reads a list of numbers from the user.\n",
    "2. Calculates and prints the average of the numbers.\n",
    "3. Handles the case where the list is empty."
   ]
  },
  {
   "cell_type": "code",
   "execution_count": null,
   "id": "d23ec0f6",
   "metadata": {},
   "outputs": [],
   "source": [
    "# Solution for Exercise 3\n",
    "def calculate_average(numbers):\n",
    "    try:\n",
    "        if len(numbers) == 0:\n",
    "            raise ValueError(\"Cannot calculate average of an empty list.\")\n",
    "        return sum(numbers) / len(numbers)\n",
    "    except ValueError as e:\n",
    "        return str(e)\n",
    "\n",
    "try:\n",
    "    user_input = input(\"Enter a list of numbers separated by spaces: \")\n",
    "    numbers = [float(num) for num in user_input.split()]\n",
    "    print(\"Average:\", calculate_average(numbers))\n",
    "except ValueError:\n",
    "    print(\"Error: Please enter valid numbers.\")"
   ]
  }
 ],
 "metadata": {
  "kernelspec": {
   "display_name": "Python 3 (ipykernel)",
   "language": "python",
   "name": "python3"
  },
  "language_info": {
   "codemirror_mode": {
    "name": "ipython",
    "version": 3
   },
   "file_extension": ".py",
   "mimetype": "text/x-python",
   "name": "python",
   "nbconvert_exporter": "python",
   "pygments_lexer": "ipython3",
   "version": "3.11.7"
  }
 },
 "nbformat": 4,
 "nbformat_minor": 5
}
