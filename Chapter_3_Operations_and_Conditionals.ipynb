{
 "cells": [
  {
   "cell_type": "markdown",
   "id": "e089262f",
   "metadata": {},
   "source": [
    "# Chapter 3: Operations and Conditionals"
   ]
  },
  {
   "cell_type": "markdown",
   "id": "638bf39d",
   "metadata": {},
   "source": [
    "## 1. Theory: Arithmetic and Logical Operations, Using `if` Statements"
   ]
  },
  {
   "cell_type": "markdown",
   "id": "108c8a1f",
   "metadata": {},
   "source": [
    "### Arithmetic Operations\n",
    "Python supports various arithmetic operations:\n",
    "- **Addition (`+`)**: Adds two numbers.\n",
    "- **Subtraction (`-`)**: Subtracts one number from another.\n",
    "- **Multiplication (`*`)**: Multiplies two numbers.\n",
    "- **Division (`/`)**: Divides one number by another and returns a float.\n",
    "- **Modulus (`%`)**: Returns the remainder of a division.\n",
    "- **Exponentiation (`**`)**: Raises a number to the power of another.\n",
    "- **Floor Division (`//`)**: Divides one number by another and returns an integer.\n",
    "\n",
    "### Logical Operations\n",
    "Logical operations allow you to combine conditions:\n",
    "- **AND (`and`)**: Returns `True` if both conditions are true.\n",
    "- **OR (`or`)**: Returns `True` if at least one condition is true.\n",
    "- **NOT (`not`)**: Reverses the result of a condition.\n",
    "\n",
    "### Using `if` Statements\n",
    "`if` statements enable conditional execution of code:\n",
    "```python\n",
    "if condition:\n",
    "    # Code to execute if the condition is True\n",
    "```\n",
    "\n",
    "#### Example:\n",
    "```python\n",
    "x = 10\n",
    "if x > 5:\n",
    "    print(\"x is greater than 5\")\n",
    "else:\n",
    "    print(\"x is not greater than 5\")\n",
    "```"
   ]
  },
  {
   "cell_type": "markdown",
   "id": "7491f17b",
   "metadata": {},
   "source": [
    "## 2. Example Code: Building a Basic Calculator"
   ]
  },
  {
   "cell_type": "code",
   "execution_count": null,
   "id": "95d14746",
   "metadata": {},
   "outputs": [],
   "source": [
    "# Basic Calculator\n",
    "print(\"Basic Calculator\")\n",
    "print(\"Select an operation: +, -, *, /\")\n",
    "operation = input(\"Enter operation: \")\n",
    "\n",
    "num1 = float(input(\"Enter the first number: \"))\n",
    "num2 = float(input(\"Enter the second number: \"))\n",
    "\n",
    "if operation == \"+\":\n",
    "    print(\"Result:\", num1 + num2)\n",
    "elif operation == \"-\":\n",
    "    print(\"Result:\", num1 - num2)\n",
    "elif operation == \"*\":\n",
    "    print(\"Result:\", num1 * num2)\n",
    "elif operation == \"/\":\n",
    "    if num2 != 0:\n",
    "        print(\"Result:\", num1 / num2)\n",
    "    else:\n",
    "        print(\"Error: Division by zero!\")\n",
    "else:\n",
    "    print(\"Invalid operation\")"
   ]
  },
  {
   "cell_type": "markdown",
   "id": "93a0516c",
   "metadata": {},
   "source": [
    "## 3. Knowledge Check"
   ]
  },
  {
   "cell_type": "markdown",
   "id": "fd755788",
   "metadata": {},
   "source": [
    "### Exercise 1"
   ]
  },
  {
   "cell_type": "markdown",
   "id": "7d82ed07",
   "metadata": {},
   "source": [
    "Write a program that:\n",
    "1. Asks the user for a number.\n",
    "2. Prints whether the number is positive, negative, or zero."
   ]
  },
  {
   "cell_type": "code",
   "execution_count": null,
   "id": "582c1021",
   "metadata": {},
   "outputs": [],
   "source": [
    "# Solution for Exercise 1\n",
    "number = float(input(\"Enter a number: \"))\n",
    "\n",
    "if number > 0:\n",
    "    print(\"The number is positive.\")\n",
    "elif number < 0:\n",
    "    print(\"The number is negative.\")\n",
    "else:\n",
    "    print(\"The number is zero.\")"
   ]
  },
  {
   "cell_type": "markdown",
   "id": "50904d0d",
   "metadata": {},
   "source": [
    "### Exercise 2"
   ]
  },
  {
   "cell_type": "markdown",
   "id": "3c52a3f1",
   "metadata": {},
   "source": [
    "Write a program that:\n",
    "1. Takes two numbers as input.\n",
    "2. Prints the larger of the two numbers."
   ]
  },
  {
   "cell_type": "code",
   "execution_count": null,
   "id": "6f68d9bf",
   "metadata": {},
   "outputs": [],
   "source": [
    "# Solution for Exercise 2\n",
    "num1 = float(input(\"Enter the first number: \"))\n",
    "num2 = float(input(\"Enter the second number: \"))\n",
    "\n",
    "if num1 > num2:\n",
    "    print(\"The larger number is:\", num1)\n",
    "elif num1 < num2:\n",
    "    print(\"The larger number is:\", num2)\n",
    "else:\n",
    "    print(\"Both numbers are equal.\")"
   ]
  },
  {
   "cell_type": "markdown",
   "id": "367d2ff6",
   "metadata": {},
   "source": [
    "### Exercise 3"
   ]
  },
  {
   "cell_type": "markdown",
   "id": "f16284dd",
   "metadata": {},
   "source": [
    "Write a program that:\n",
    "1. Takes the user's age as input.\n",
    "2. Prints whether the user is a child (age < 18), an adult (age >= 18 and age < 60), or a senior (age >= 60)."
   ]
  },
  {
   "cell_type": "code",
   "execution_count": null,
   "id": "8ed657a6",
   "metadata": {},
   "outputs": [],
   "source": [
    "# Solution for Exercise 3\n",
    "age = int(input(\"Enter your age: \"))\n",
    "\n",
    "if age < 18:\n",
    "    print(\"You are a child.\")\n",
    "elif age < 60:\n",
    "    print(\"You are an adult.\")\n",
    "else:\n",
    "    print(\"You are a senior.\")"
   ]
  }
 ],
 "metadata": {
  "kernelspec": {
   "display_name": "Python 3 (ipykernel)",
   "language": "python",
   "name": "python3"
  },
  "language_info": {
   "codemirror_mode": {
    "name": "ipython",
    "version": 3
   },
   "file_extension": ".py",
   "mimetype": "text/x-python",
   "name": "python",
   "nbconvert_exporter": "python",
   "pygments_lexer": "ipython3",
   "version": "3.11.7"
  }
 },
 "nbformat": 4,
 "nbformat_minor": 5
}
