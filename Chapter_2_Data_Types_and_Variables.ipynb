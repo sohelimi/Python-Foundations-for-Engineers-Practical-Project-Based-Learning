{
 "cells": [
  {
   "cell_type": "markdown",
   "id": "768199e3",
   "metadata": {},
   "source": [
    "# Chapter 2: Data Types and Variables"
   ]
  },
  {
   "cell_type": "markdown",
   "id": "ffa6cf89",
   "metadata": {},
   "source": [
    "## 1. Theory: Understanding Data Types and Variables"
   ]
  },
  {
   "cell_type": "markdown",
   "id": "7ce5d623",
   "metadata": {},
   "source": [
    "### Data Types\n",
    "Python has several basic data types used to represent different kinds of data:\n",
    "- **Integers (`int`)**: Whole numbers (e.g., `10`, `-5`).\n",
    "- **Floats (`float`)**: Decimal numbers (e.g., `3.14`, `-2.5`).\n",
    "- **Strings (`str`)**: Text data (e.g., `\"hello\"`, `'world'`).\n",
    "- **Booleans (`bool`)**: True or False values.\n",
    "\n",
    "### Variable Assignment\n",
    "A variable is a container for storing data. You can assign a value to a variable using the `=` operator.\n",
    "\n",
    "#### Example:\n",
    "```python\n",
    "age = 25  # Integer\n",
    "height = 5.9  # Float\n",
    "name = \"John Doe\"  # String\n",
    "is_student = True  # Boolean\n",
    "```\n",
    "\n",
    "You can use variables to store, update, and retrieve data in your program."
   ]
  },
  {
   "cell_type": "markdown",
   "id": "083a82bf",
   "metadata": {},
   "source": [
    "## 2. Example Code: Basic Calculations and String Manipulations"
   ]
  },
  {
   "cell_type": "code",
   "execution_count": null,
   "id": "27a3964a",
   "metadata": {},
   "outputs": [],
   "source": [
    "# Example 1: Basic Calculations\n",
    "num1 = 10\n",
    "num2 = 20\n",
    "\n",
    "# Performing addition\n",
    "sum_result = num1 + num2\n",
    "print(\"Sum:\", sum_result)\n",
    "\n",
    "# Performing multiplication\n",
    "product_result = num1 * num2\n",
    "print(\"Product:\", product_result)"
   ]
  },
  {
   "cell_type": "code",
   "execution_count": null,
   "id": "29a73dbe",
   "metadata": {},
   "outputs": [],
   "source": [
    "# Example 2: String Manipulations\n",
    "greeting = \"Hello\"\n",
    "name = \"Alice\"\n",
    "\n",
    "# Concatenating strings\n",
    "welcome_message = greeting + \" \" + name\n",
    "print(\"Welcome message:\", welcome_message)\n",
    "\n",
    "# Repeating strings\n",
    "repeated_message = greeting * 3\n",
    "print(\"Repeated message:\", repeated_message)"
   ]
  },
  {
   "cell_type": "markdown",
   "id": "4d08bd9c",
   "metadata": {},
   "source": [
    "## 3. Knowledge Check"
   ]
  },
  {
   "cell_type": "markdown",
   "id": "03811a8a",
   "metadata": {},
   "source": [
    "### Exercise 1"
   ]
  },
  {
   "cell_type": "markdown",
   "id": "c5c68f07",
   "metadata": {},
   "source": [
    "Define a variable called `temperature` and assign it the value `25`. Print the variable."
   ]
  },
  {
   "cell_type": "code",
   "execution_count": null,
   "id": "b8bab3ca",
   "metadata": {},
   "outputs": [],
   "source": [
    "# Solution for Exercise 1\n",
    "temperature = 25\n",
    "print(\"Temperature:\", temperature)"
   ]
  },
  {
   "cell_type": "markdown",
   "id": "86b91573",
   "metadata": {},
   "source": [
    "### Exercise 2"
   ]
  },
  {
   "cell_type": "markdown",
   "id": "a610d697",
   "metadata": {},
   "source": [
    "Write a program that:\n",
    "1. Takes a user's first name and last name as input.\n",
    "2. Prints the full name by concatenating the inputs."
   ]
  },
  {
   "cell_type": "code",
   "execution_count": null,
   "id": "3caf654d",
   "metadata": {},
   "outputs": [],
   "source": [
    "# Solution for Exercise 2\n",
    "first_name = input(\"Enter your first name: \")\n",
    "last_name = input(\"Enter your last name: \")\n",
    "full_name = first_name + \" \" + last_name\n",
    "print(\"Full Name:\", full_name)"
   ]
  },
  {
   "cell_type": "markdown",
   "id": "ab016ecb",
   "metadata": {},
   "source": [
    "### Exercise 3"
   ]
  },
  {
   "cell_type": "markdown",
   "id": "2f2c5ce7",
   "metadata": {},
   "source": [
    "Perform and print the result of the following calculations using variables:\n",
    "1. Subtract `15` from `45`.\n",
    "2. Divide `100` by `5`."
   ]
  },
  {
   "cell_type": "code",
   "execution_count": null,
   "id": "47fc52f1",
   "metadata": {},
   "outputs": [],
   "source": [
    "# Solution for Exercise 3\n",
    "# Subtraction\n",
    "result_subtract = 45 - 15\n",
    "print(\"Result of subtraction:\", result_subtract)\n",
    "\n",
    "# Division\n",
    "result_divide = 100 / 5\n",
    "print(\"Result of division:\", result_divide)"
   ]
  }
 ],
 "metadata": {
  "kernelspec": {
   "display_name": "Python 3 (ipykernel)",
   "language": "python",
   "name": "python3"
  },
  "language_info": {
   "codemirror_mode": {
    "name": "ipython",
    "version": 3
   },
   "file_extension": ".py",
   "mimetype": "text/x-python",
   "name": "python",
   "nbconvert_exporter": "python",
   "pygments_lexer": "ipython3",
   "version": "3.11.7"
  }
 },
 "nbformat": 4,
 "nbformat_minor": 5
}
