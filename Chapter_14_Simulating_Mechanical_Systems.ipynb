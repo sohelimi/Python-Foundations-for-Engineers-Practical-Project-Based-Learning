{
 "cells": [
  {
   "cell_type": "markdown",
   "id": "8c74026b",
   "metadata": {},
   "source": [
    "# Chapter 14: Mechanical Engineering: Simulating Mechanical Systems"
   ]
  },
  {
   "cell_type": "markdown",
   "id": "ed39c13f",
   "metadata": {},
   "source": [
    "## 1. Theory: Basics of Dynamics and System Simulations"
   ]
  },
  {
   "cell_type": "markdown",
   "id": "65dd0d51",
   "metadata": {},
   "source": [
    "### Dynamics and Simulations\n",
    "In mechanical engineering, system simulations are used to analyze and predict the behavior of mechanical systems under various conditions.\n",
    "\n",
    "#### Basics of Dynamics:\n",
    "1. **Newton's Laws**: Govern the motion of objects.\n",
    "   - F = ma (Force = Mass × Acceleration)\n",
    "2. **Energy Principles**:\n",
    "   - Kinetic Energy: \\( KE = \\frac{1}{2} mv^2 \\)\n",
    "   - Potential Energy: \\( PE = mgh \\)\n",
    "\n",
    "#### Simulating Mechanical Systems:\n",
    "- Simulations allow engineers to:\n",
    "  - Analyze the motion of components.\n",
    "  - Understand forces acting on parts.\n",
    "  - Optimize designs before physical prototyping.\n"
   ]
  },
  {
   "cell_type": "markdown",
   "id": "76809794",
   "metadata": {},
   "source": [
    "## 2. Example Code: Model a Pendulum System"
   ]
  },
  {
   "cell_type": "code",
   "execution_count": null,
   "id": "a5cbb3b7",
   "metadata": {},
   "outputs": [],
   "source": [
    "# Example: Simulating a Simple Pendulum\n",
    "import numpy as np\n",
    "import matplotlib.pyplot as plt\n",
    "\n",
    "class Pendulum:\n",
    "    def __init__(self, length, gravity, theta0):\n",
    "        self.length = length  # Length of the pendulum (m)\n",
    "        self.gravity = gravity  # Gravitational acceleration (m/s^2)\n",
    "        self.theta0 = theta0  # Initial angle (radians)\n",
    "\n",
    "    def simulate(self, time_step, total_time):\n",
    "        # Time array\n",
    "        t = np.arange(0, total_time, time_step)\n",
    "\n",
    "        # Angular displacement array (theta)\n",
    "        theta = self.theta0 * np.cos(np.sqrt(self.gravity / self.length) * t)\n",
    "\n",
    "        return t, theta\n",
    "\n",
    "# Parameters for the pendulum\n",
    "length = 2  # meters\n",
    "gravity = 9.81  # m/s^2\n",
    "theta0 = np.radians(30)  # Initial angle in radians\n",
    "\n",
    "# Create the Pendulum object\n",
    "pendulum = Pendulum(length, gravity, theta0)\n",
    "\n",
    "# Simulate the pendulum motion\n",
    "time_step = 0.01  # seconds\n",
    "total_time = 10  # seconds\n",
    "time, theta = pendulum.simulate(time_step, total_time)\n",
    "\n",
    "# Plot the pendulum motion\n",
    "plt.plot(time, theta, label=\"Theta (rad)\")\n",
    "plt.xlabel(\"Time (s)\")\n",
    "plt.ylabel(\"Angle (radians)\")\n",
    "plt.title(\"Simple Pendulum Simulation\")\n",
    "plt.legend()\n",
    "plt.grid(True)\n",
    "plt.show()"
   ]
  },
  {
   "cell_type": "code",
   "execution_count": null,
   "id": "38f28085",
   "metadata": {},
   "outputs": [],
   "source": [
    "# Example: Simulating a Gear System\n",
    "class GearSystem:\n",
    "    def __init__(self, gear_ratio):\n",
    "        self.gear_ratio = gear_ratio  # Ratio of the gear system\n",
    "\n",
    "    def calculate_speed(self, input_speed):\n",
    "        return input_speed / self.gear_ratio\n",
    "\n",
    "# Create a gear system with a ratio of 4:1\n",
    "gear_system = GearSystem(gear_ratio=4)\n",
    "\n",
    "# Input speed in RPM\n",
    "input_speed = 1200\n",
    "\n",
    "# Calculate output speed\n",
    "output_speed = gear_system.calculate_speed(input_speed)\n",
    "print(f\"Input Speed: {input_speed} RPM\")\n",
    "print(f\"Output Speed: {output_speed} RPM\")"
   ]
  },
  {
   "cell_type": "markdown",
   "id": "06b71b91",
   "metadata": {},
   "source": [
    "## 3. Knowledge Check: Challenges to Create Additional Mechanical Models"
   ]
  },
  {
   "cell_type": "markdown",
   "id": "6e8c7ad0",
   "metadata": {},
   "source": [
    "### Exercise 1: Model a Spring-Mass System\n",
    "Write a class `SpringMass` to:\n",
    "1. Simulate the oscillation of a mass attached to a spring.\n",
    "2. Use Hooke's Law: F = -kx, where `k` is the spring constant and `x` is the displacement.\n",
    "3. Plot the displacement of the mass over time."
   ]
  },
  {
   "cell_type": "code",
   "execution_count": null,
   "id": "fce239c6",
   "metadata": {},
   "outputs": [],
   "source": [
    "# Solution for Exercise 1\n",
    "class SpringMass:\n",
    "    def __init__(self, spring_constant, mass, initial_displacement):\n",
    "        self.k = spring_constant  # Spring constant (N/m)\n",
    "        self.m = mass  # Mass (kg)\n",
    "        self.x0 = initial_displacement  # Initial displacement (m)\n",
    "\n",
    "    def simulate(self, time_step, total_time):\n",
    "        omega = np.sqrt(self.k / self.m)  # Angular frequency\n",
    "        t = np.arange(0, total_time, time_step)\n",
    "        x = self.x0 * np.cos(omega * t)\n",
    "        return t, x\n",
    "\n",
    "# Parameters\n",
    "spring_constant = 100  # N/m\n",
    "mass = 2  # kg\n",
    "initial_displacement = 0.1  # meters\n",
    "\n",
    "# Create the spring-mass system\n",
    "spring_mass = SpringMass(spring_constant, mass, initial_displacement)\n",
    "\n",
    "# Simulate the motion\n",
    "time_step = 0.01  # seconds\n",
    "total_time = 10  # seconds\n",
    "time, displacement = spring_mass.simulate(time_step, total_time)\n",
    "\n",
    "# Plot the motion\n",
    "plt.plot(time, displacement, label=\"Displacement (m)\")\n",
    "plt.xlabel(\"Time (s)\")\n",
    "plt.ylabel(\"Displacement (m)\")\n",
    "plt.title(\"Spring-Mass System Oscillation\")\n",
    "plt.legend()\n",
    "plt.grid(True)\n",
    "plt.show()"
   ]
  },
  {
   "cell_type": "markdown",
   "id": "3c560555",
   "metadata": {},
   "source": [
    "### Exercise 2: Model a Simple Pulley System\n",
    "Write a class `PulleySystem` to:\n",
    "1. Calculate the mechanical advantage of a pulley system.\n",
    "2. Determine the force required to lift a weight."
   ]
  },
  {
   "cell_type": "code",
   "execution_count": null,
   "id": "a7f6f2e1",
   "metadata": {},
   "outputs": [],
   "source": [
    "# Solution for Exercise 2\n",
    "class PulleySystem:\n",
    "    def __init__(self, num_pulleys):\n",
    "        self.num_pulleys = num_pulleys\n",
    "\n",
    "    def mechanical_advantage(self):\n",
    "        return self.num_pulleys\n",
    "\n",
    "    def force_required(self, load):\n",
    "        return load / self.mechanical_advantage()\n",
    "\n",
    "# Parameters\n",
    "num_pulleys = 4\n",
    "load = 1000  # N\n",
    "\n",
    "# Create the pulley system\n",
    "pulley_system = PulleySystem(num_pulleys)\n",
    "\n",
    "# Calculate mechanical advantage and required force\n",
    "ma = pulley_system.mechanical_advantage()\n",
    "required_force = pulley_system.force_required(load)\n",
    "\n",
    "print(f\"Mechanical Advantage: {ma}\")\n",
    "print(f\"Force Required to Lift Load: {required_force} N\")"
   ]
  }
 ],
 "metadata": {
  "kernelspec": {
   "display_name": "Python 3 (ipykernel)",
   "language": "python",
   "name": "python3"
  },
  "language_info": {
   "codemirror_mode": {
    "name": "ipython",
    "version": 3
   },
   "file_extension": ".py",
   "mimetype": "text/x-python",
   "name": "python",
   "nbconvert_exporter": "python",
   "pygments_lexer": "ipython3",
   "version": "3.11.7"
  }
 },
 "nbformat": 4,
 "nbformat_minor": 5
}
