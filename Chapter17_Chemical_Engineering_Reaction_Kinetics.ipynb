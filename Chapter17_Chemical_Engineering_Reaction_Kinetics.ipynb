{
 "cells": [
  {
   "cell_type": "markdown",
   "id": "4260215e",
   "metadata": {},
   "source": [
    "# Chapter 17: Chemical Engineering: Reaction Kinetics\n",
    "\n",
    "## Theory: Basics of Reaction Kinetics and Rate Equations\n",
    "\n",
    "### Core Concepts\n",
    "1. **Reaction Kinetics**:\n",
    "   - Study of the rates of chemical processes.\n",
    "   - Key parameters: reaction rate, rate constant, and order of reaction.\n",
    "\n",
    "2. **Rate Equations**:\n",
    "   - Express the relationship between the rate of a reaction and the concentration of reactants.\n",
    "   - General form: \\( r = k[A]^m[B]^n \\), where:\n",
    "     - \\( r \\): Reaction rate\n",
    "     - \\( k \\): Rate constant\n",
    "     - \\( [A], [B] \\): Concentrations of reactants\n",
    "     - \\( m, n \\): Reaction orders\n",
    "\n",
    "3. **Applications**:\n",
    "   - Predict reaction behavior under varying conditions.\n",
    "   - Optimize chemical processes in industries."
   ]
  },
  {
   "cell_type": "code",
   "execution_count": 3,
   "id": "c9e5d4a1",
   "metadata": {},
   "outputs": [
    {
     "name": "stdout",
     "output_type": "stream",
     "text": [
      "Reaction rate: 0.18 mol/L/s\n"
     ]
    }
   ],
   "source": [
    "# Example Code: Model a Reaction Rate System Using Classes\n",
    "\n",
    "class Reaction:\n",
    "    def __init__(self, rate_constant, order_A, order_B):\n",
    "        self.rate_constant = rate_constant  # Rate constant (k)\n",
    "        self.order_A = order_A  # Reaction order with respect to A\n",
    "        self.order_B = order_B  # Reaction order with respect to B\n",
    "\n",
    "    def calculate_rate(self, concentration_A, concentration_B):\n",
    "        # Rate equation: r = k[A]^m[B]^n\n",
    "        return self.rate_constant * (concentration_A ** self.order_A) * (concentration_B ** self.order_B)\n",
    "\n",
    "# Example Reaction: A + B -> Products\n",
    "reaction = Reaction(rate_constant=0.01, order_A=1, order_B=2)\n",
    "\n",
    "# Concentrations in mol/L\n",
    "concentration_A = 2.0  # [A]\n",
    "concentration_B = 3.0  # [B]\n",
    "\n",
    "# Calculate reaction rate\n",
    "reaction_rate = reaction.calculate_rate(concentration_A, concentration_B)\n",
    "print(f\"Reaction rate: {reaction_rate} mol/L/s\")"
   ]
  },
  {
   "cell_type": "markdown",
   "id": "a8164c6c",
   "metadata": {},
   "source": [
    "## Knowledge Check: Simulate Different Reaction Conditions\n",
    "\n",
    "### Problem 1\n",
    "For a reaction with a rate constant \\( k = 0.05 \\), order of reaction with respect to A = 1, and order with respect to B = 1:\n",
    "1. Calculate the reaction rate when \\( [A] = 1.5 \\) mol/L and \\( [B] = 2.0 \\) mol/L.\n",
    "2. Predict the rate if \\( [B] \\) is doubled.\n",
    "\n",
    "### Problem 2\n",
    "For the same reaction, investigate the effect of halving \\( [A] \\) while keeping \\( [B] \\) constant at 2.0 mol/L."
   ]
  },
  {
   "cell_type": "code",
   "execution_count": 5,
   "id": "2aa15d34",
   "metadata": {},
   "outputs": [
    {
     "name": "stdout",
     "output_type": "stream",
     "text": [
      "Initial reaction rate: 0.15000000000000002 mol/L/s\n",
      "Reaction rate when [B] is doubled: 0.30000000000000004 mol/L/s\n",
      "Reaction rate when [A] is halved: 0.07500000000000001 mol/L/s\n"
     ]
    }
   ],
   "source": [
    "# Problem 1 Solution\n",
    "reaction = Reaction(rate_constant=0.05, order_A=1, order_B=1)\n",
    "\n",
    "# Initial conditions\n",
    "concentration_A = 1.5  # [A] = 1.5 mol/L\n",
    "concentration_B = 2.0  # [B] = 2.0 mol/L\n",
    "\n",
    "# Calculate initial reaction rate\n",
    "initial_rate = reaction.calculate_rate(concentration_A, concentration_B)\n",
    "print(f\"Initial reaction rate: {initial_rate} mol/L/s\")\n",
    "\n",
    "# When [B] is doubled\n",
    "concentration_B_doubled = 2 * concentration_B\n",
    "new_rate = reaction.calculate_rate(concentration_A, concentration_B_doubled)\n",
    "print(f\"Reaction rate when [B] is doubled: {new_rate} mol/L/s\")\n",
    "\n",
    "# Problem 2 Solution\n",
    "# Halving [A]\n",
    "concentration_A_halved = 0.5 * concentration_A\n",
    "rate_halved_A = reaction.calculate_rate(concentration_A_halved, concentration_B)\n",
    "print(f\"Reaction rate when [A] is halved: {rate_halved_A} mol/L/s\")"
   ]
  },
  {
   "cell_type": "code",
   "execution_count": null,
   "id": "3c71ea33-69f7-467f-97bf-949b849731da",
   "metadata": {},
   "outputs": [],
   "source": []
  }
 ],
 "metadata": {
  "kernelspec": {
   "display_name": "Python 3 (ipykernel)",
   "language": "python",
   "name": "python3"
  },
  "language_info": {
   "codemirror_mode": {
    "name": "ipython",
    "version": 3
   },
   "file_extension": ".py",
   "mimetype": "text/x-python",
   "name": "python",
   "nbconvert_exporter": "python",
   "pygments_lexer": "ipython3",
   "version": "3.11.7"
  }
 },
 "nbformat": 4,
 "nbformat_minor": 5
}
