{
 "cells": [
  {
   "cell_type": "markdown",
   "id": "7912bee8",
   "metadata": {},
   "source": [
    "# Chapter 8: File Handling for Data Storage and Retrieval"
   ]
  },
  {
   "cell_type": "markdown",
   "id": "329c6214",
   "metadata": {},
   "source": [
    "## 1. Theory: Reading from and Writing to Text Files"
   ]
  },
  {
   "cell_type": "markdown",
   "id": "b2c2ee0a",
   "metadata": {},
   "source": [
    "### File Handling in Python\n",
    "Python provides built-in functions for file handling, allowing you to store and retrieve data efficiently.\n",
    "\n",
    "#### File Operations:\n",
    "1. **Opening a File**:\n",
    "   ```python\n",
    "   file = open(\"filename.txt\", mode)\n",
    "   ```\n",
    "   Modes:\n",
    "   - `'r'`: Read (default mode)\n",
    "   - `'w'`: Write (overwrites the file)\n",
    "   - `'a'`: Append\n",
    "   - `'r+'`: Read and Write\n",
    "\n",
    "2. **Reading a File**:\n",
    "   ```python\n",
    "   content = file.read()\n",
    "   ```\n",
    "\n",
    "3. **Writing to a File**:\n",
    "   ```python\n",
    "   file.write(\"Data to write\")\n",
    "   ```\n",
    "\n",
    "4. **Closing a File**:\n",
    "   Always close the file after performing operations:\n",
    "   ```python\n",
    "   file.close()\n",
    "   ```\n",
    "\n",
    "### Using `with` Statement\n",
    "The `with` statement ensures the file is closed automatically after use:\n",
    "```python\n",
    "with open(\"filename.txt\", \"r\") as file:\n",
    "    content = file.read()\n",
    "```\n",
    "\n",
    "### Example Workflow\n",
    "- Write data to a file.\n",
    "- Read the data back from the file.\n"
   ]
  },
  {
   "cell_type": "markdown",
   "id": "10b91fdd",
   "metadata": {},
   "source": [
    "## 2. Example Code: Saving and Retrieving Data from Files"
   ]
  },
  {
   "cell_type": "code",
   "execution_count": null,
   "id": "ff187898",
   "metadata": {},
   "outputs": [],
   "source": [
    "# Example 1: Writing to a file\n",
    "with open(\"example.txt\", \"w\") as file:\n",
    "    file.write(\"Hello, this is a test file.\\n\")\n",
    "    file.write(\"File handling in Python is simple!\")"
   ]
  },
  {
   "cell_type": "code",
   "execution_count": null,
   "id": "3b39948c",
   "metadata": {},
   "outputs": [],
   "source": [
    "# Example 2: Reading from a file\n",
    "with open(\"example.txt\", \"r\") as file:\n",
    "    content = file.read()\n",
    "    print(\"File Content:\\n\", content)"
   ]
  },
  {
   "cell_type": "code",
   "execution_count": null,
   "id": "41bc0003",
   "metadata": {},
   "outputs": [],
   "source": [
    "# Example 3: Appending to a file\n",
    "with open(\"example.txt\", \"a\") as file:\n",
    "    file.write(\"\\nAdding more content to the file.\")\n",
    "\n",
    "# Verify by reading the file again\n",
    "with open(\"example.txt\", \"r\") as file:\n",
    "    content = file.read()\n",
    "    print(\"Updated File Content:\\n\", content)"
   ]
  },
  {
   "cell_type": "markdown",
   "id": "667fcc2c",
   "metadata": {},
   "source": [
    "## 3. Knowledge Check"
   ]
  },
  {
   "cell_type": "markdown",
   "id": "41f03097",
   "metadata": {},
   "source": [
    "### Exercise 1"
   ]
  },
  {
   "cell_type": "markdown",
   "id": "0d00bb2a",
   "metadata": {},
   "source": [
    "Write a program that:\n",
    "1. Creates a new file called `data.txt`.\n",
    "2. Writes the numbers 1 to 5, each on a new line."
   ]
  },
  {
   "cell_type": "code",
   "execution_count": null,
   "id": "ed45eb5c",
   "metadata": {},
   "outputs": [],
   "source": [
    "# Solution for Exercise 1\n",
    "with open(\"data.txt\", \"w\") as file:\n",
    "    for i in range(1, 6):\n",
    "        file.write(f\"{i}\\n\")"
   ]
  },
  {
   "cell_type": "markdown",
   "id": "4f9545f7",
   "metadata": {},
   "source": [
    "### Exercise 2"
   ]
  },
  {
   "cell_type": "markdown",
   "id": "7652e588",
   "metadata": {},
   "source": [
    "Write a program that:\n",
    "1. Reads the content of `data.txt`.\n",
    "2. Prints each line from the file."
   ]
  },
  {
   "cell_type": "code",
   "execution_count": null,
   "id": "dbd6296c",
   "metadata": {},
   "outputs": [],
   "source": [
    "# Solution for Exercise 2\n",
    "with open(\"data.txt\", \"r\") as file:\n",
    "    for line in file:\n",
    "        print(line.strip())"
   ]
  },
  {
   "cell_type": "markdown",
   "id": "e6a6474f",
   "metadata": {},
   "source": [
    "### Exercise 3"
   ]
  },
  {
   "cell_type": "markdown",
   "id": "b26d4235",
   "metadata": {},
   "source": [
    "Write a program that:\n",
    "1. Appends your name to the file `data.txt`.\n",
    "2. Reads and prints the updated file content."
   ]
  },
  {
   "cell_type": "code",
   "execution_count": null,
   "id": "8928d1e0",
   "metadata": {},
   "outputs": [],
   "source": [
    "# Solution for Exercise 3\n",
    "with open(\"data.txt\", \"a\") as file:\n",
    "    file.write(\"Your Name\\n\")\n",
    "\n",
    "# Read and print updated content\n",
    "with open(\"data.txt\", \"r\") as file:\n",
    "    content = file.read()\n",
    "    print(\"Updated File Content:\\n\", content)"
   ]
  }
 ],
 "metadata": {
  "kernelspec": {
   "display_name": "Python 3 (ipykernel)",
   "language": "python",
   "name": "python3"
  },
  "language_info": {
   "codemirror_mode": {
    "name": "ipython",
    "version": 3
   },
   "file_extension": ".py",
   "mimetype": "text/x-python",
   "name": "python",
   "nbconvert_exporter": "python",
   "pygments_lexer": "ipython3",
   "version": "3.11.7"
  }
 },
 "nbformat": 4,
 "nbformat_minor": 5
}
