{
 "cells": [
  {
   "cell_type": "markdown",
   "id": "ed8d7ae4",
   "metadata": {},
   "source": [
    "# Chapter 1: Introduction to Python for Engineers"
   ]
  },
  {
   "cell_type": "markdown",
   "id": "0aea2cf1",
   "metadata": {},
   "source": [
    "## 1. Theory: Importance of Python in Engineering"
   ]
  },
  {
   "cell_type": "markdown",
   "id": "f5ec75fb",
   "metadata": {},
   "source": [
    "Python is a versatile programming language widely used in engineering for:\n",
    "- Data analysis and visualization\n",
    "- Automation of repetitive tasks\n",
    "- Simulations and modeling\n",
    "- Machine learning and AI\n",
    "\n",
    "### Installation Guide\n",
    "1. Download Python from [https://www.python.org/downloads/](https://www.python.org/downloads/)\n",
    "2. Run the installer and check \"Add Python to PATH\".\n",
    "3. Verify installation using the command: `python --version`.\n",
    "\n",
    "### Recommended Tools\n",
    "- Jupyter Notebook (interactive environment)\n",
    "- VS Code with Python extension (for coding)\n",
    "- Anaconda distribution (for managing libraries)"
   ]
  },
  {
   "cell_type": "markdown",
   "id": "77119258",
   "metadata": {},
   "source": [
    "## 2. Example Code: Basic Print Statements and User Inputs"
   ]
  },
  {
   "cell_type": "code",
   "execution_count": 5,
   "id": "7a2d6133",
   "metadata": {},
   "outputs": [
    {
     "name": "stdout",
     "output_type": "stream",
     "text": [
      "Welcome to Python for Engineers!\n",
      "Let's start coding!\n"
     ]
    }
   ],
   "source": [
    "# Example 1: Basic Print Statements\n",
    "print(\"Welcome to Python for Engineers!\")\n",
    "print(\"Let's start coding!\")"
   ]
  },
  {
   "cell_type": "code",
   "execution_count": 6,
   "id": "3ff45b65",
   "metadata": {},
   "outputs": [
    {
     "name": "stdin",
     "output_type": "stream",
     "text": [
      "Enter your name:  Amen\n"
     ]
    },
    {
     "name": "stdout",
     "output_type": "stream",
     "text": [
      "Hello, Amen! Welcome to the world of Python.\n"
     ]
    }
   ],
   "source": [
    "# Example 2: Accepting User Input\n",
    "name = input(\"Enter your name: \")\n",
    "print(f\"Hello, {name}! Welcome to the world of Python.\")"
   ]
  },
  {
   "cell_type": "code",
   "execution_count": 7,
   "id": "679c2ca8",
   "metadata": {},
   "outputs": [
    {
     "name": "stdin",
     "output_type": "stream",
     "text": [
      "Enter the first number:  Amen\n",
      "Enter the second number:  ggdg\n"
     ]
    },
    {
     "name": "stdout",
     "output_type": "stream",
     "text": [
      "Invalid input! Please enter numeric values.\n"
     ]
    }
   ],
   "source": [
    "# Example 3: Simple Calculation\n",
    "number1 = input(\"Enter the first number: \")\n",
    "number2 = input(\"Enter the second number: \")\n",
    "try:\n",
    "    result = int(number1) + int(number2)  # Converting strings to integers\n",
    "    print(f\"The sum of {number1} and {number2} is: {result}\")\n",
    "except ValueError:\n",
    "    print(\"Invalid input! Please enter numeric values.\")"
   ]
  },
  {
   "cell_type": "markdown",
   "id": "4bcca732",
   "metadata": {},
   "source": [
    "## 3. Knowledge Check: Quick Syntax Quiz"
   ]
  },
  {
   "cell_type": "markdown",
   "id": "5dc32bcb",
   "metadata": {},
   "source": [
    "### Question 1\n",
    "What does the `print()` function do?\n",
    "- a) Accepts user input\n",
    "- b) Displays text on the screen\n",
    "- c) Performs mathematical operations\n",
    "\n",
    "**Answer**: `b`\n",
    "\n",
    "### Question 2\n",
    "Fill in the blank: The function that allows users to type input is called `_______()`.\n",
    "\n",
    "**Answer**: `input()`\n",
    "\n",
    "### Question 3: Task\n",
    "Write a Python program to ask for the user's age and display a message.\n",
    "\n",
    "**Example Solution**:\n",
    "```python\n",
    "age = input(\"Enter your age: \")\n",
    "print(f\"You are {age} years old.\")\n",
    "```"
   ]
  }
 ],
 "metadata": {
  "kernelspec": {
   "display_name": "Python 3 (ipykernel)",
   "language": "python",
   "name": "python3"
  },
  "language_info": {
   "codemirror_mode": {
    "name": "ipython",
    "version": 3
   },
   "file_extension": ".py",
   "mimetype": "text/x-python",
   "name": "python",
   "nbconvert_exporter": "python",
   "pygments_lexer": "ipython3",
   "version": "3.11.7"
  }
 },
 "nbformat": 4,
 "nbformat_minor": 5
}
