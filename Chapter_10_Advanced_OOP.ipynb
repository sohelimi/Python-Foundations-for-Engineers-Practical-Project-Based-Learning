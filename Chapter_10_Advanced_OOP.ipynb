{
 "cells": [
  {
   "cell_type": "markdown",
   "id": "f81b1f99",
   "metadata": {},
   "source": [
    "# Chapter 10: Advanced OOP: Inheritance and Polymorphism"
   ]
  },
  {
   "cell_type": "markdown",
   "id": "50cf8f31",
   "metadata": {},
   "source": [
    "## 1. Theory: Concepts of Inheritance, Polymorphism, Encapsulation"
   ]
  },
  {
   "cell_type": "markdown",
   "id": "e352ad8c",
   "metadata": {},
   "source": [
    "### Inheritance\n",
    "Inheritance allows a class (child class) to inherit attributes and methods from another class (parent class).\n",
    "\n",
    "#### Example:\n",
    "```python\n",
    "class Parent:\n",
    "    def greet(self):\n",
    "        print(\"Hello from the parent!\")\n",
    "\n",
    "class Child(Parent):\n",
    "    pass\n",
    "\n",
    "child = Child()\n",
    "child.greet()  # Inherits the greet method\n",
    "```\n",
    "\n",
    "### Polymorphism\n",
    "Polymorphism allows methods in different classes to have the same name but behave differently.\n",
    "\n",
    "#### Example:\n",
    "```python\n",
    "class Shape:\n",
    "    def area(self):\n",
    "        pass\n",
    "\n",
    "class Rectangle(Shape):\n",
    "    def area(self, length, width):\n",
    "        return length * width\n",
    "\n",
    "class Circle(Shape):\n",
    "    def area(self, radius):\n",
    "        return 3.14 * radius * radius\n",
    "```\n",
    "\n",
    "### Encapsulation\n",
    "Encapsulation restricts access to certain attributes or methods to protect the internal state of an object. Use underscores (`_` or `__`) to denote private attributes.\n",
    "\n",
    "#### Example:\n",
    "```python\n",
    "class Car:\n",
    "    def __init__(self):\n",
    "        self.__speed = 0  # Private attribute\n",
    "\n",
    "    def set_speed(self, speed):\n",
    "        if speed > 0:\n",
    "            self.__speed = speed\n",
    "\n",
    "    def get_speed(self):\n",
    "        return self.__speed\n",
    "```"
   ]
  },
  {
   "cell_type": "markdown",
   "id": "cc2983be",
   "metadata": {},
   "source": [
    "## 2. Example Code: Extend Classes and Use Inheritance for Real-World Models"
   ]
  },
  {
   "cell_type": "code",
   "execution_count": null,
   "id": "7120088d",
   "metadata": {},
   "outputs": [],
   "source": [
    "# Example 1: Using inheritance to represent vehicles\n",
    "class Vehicle:\n",
    "    def __init__(self, brand, speed):\n",
    "        self.brand = brand\n",
    "        self.speed = speed\n",
    "\n",
    "    def describe(self):\n",
    "        print(f\"The {self.brand} is moving at {self.speed} km/h.\")\n",
    "\n",
    "class Car(Vehicle):\n",
    "    def __init__(self, brand, speed, fuel_type):\n",
    "        super().__init__(brand, speed)\n",
    "        self.fuel_type = fuel_type\n",
    "\n",
    "    def describe(self):\n",
    "        super().describe()\n",
    "        print(f\"It uses {self.fuel_type} fuel.\")\n",
    "\n",
    "car = Car(\"Toyota\", 100, \"petrol\")\n",
    "car.describe()"
   ]
  },
  {
   "cell_type": "code",
   "execution_count": null,
   "id": "0d8aaae3",
   "metadata": {},
   "outputs": [],
   "source": [
    "# Example 2: Polymorphism with shapes\n",
    "class Shape:\n",
    "    def area(self):\n",
    "        raise NotImplementedError(\"This method should be overridden.\")\n",
    "\n",
    "class Rectangle(Shape):\n",
    "    def __init__(self, length, width):\n",
    "        self.length = length\n",
    "        self.width = width\n",
    "\n",
    "    def area(self):\n",
    "        return self.length * self.width\n",
    "\n",
    "class Circle(Shape):\n",
    "    def __init__(self, radius):\n",
    "        self.radius = radius\n",
    "\n",
    "    def area(self):\n",
    "        return 3.14 * self.radius * self.radius\n",
    "\n",
    "shapes = [Rectangle(4, 5), Circle(3)]\n",
    "for shape in shapes:\n",
    "    print(\"Area:\", shape.area())"
   ]
  },
  {
   "cell_type": "code",
   "execution_count": null,
   "id": "b1b5bc9d",
   "metadata": {},
   "outputs": [],
   "source": [
    "# Example 3: Encapsulation with an account system\n",
    "class Account:\n",
    "    def __init__(self, owner, balance):\n",
    "        self.owner = owner\n",
    "        self.__balance = balance  # Private attribute\n",
    "\n",
    "    def deposit(self, amount):\n",
    "        if amount > 0:\n",
    "            self.__balance += amount\n",
    "            print(f\"Deposited {amount}. New balance is {self.__balance}.\")\n",
    "        else:\n",
    "            print(\"Deposit amount must be positive.\")\n",
    "\n",
    "    def withdraw(self, amount):\n",
    "        if 0 < amount <= self.__balance:\n",
    "            self.__balance -= amount\n",
    "            print(f\"Withdrew {amount}. New balance is {self.__balance}.\")\n",
    "        else:\n",
    "            print(\"Insufficient funds or invalid amount.\")\n",
    "\n",
    "account = Account(\"Alice\", 500)\n",
    "account.deposit(100)\n",
    "account.withdraw(200)"
   ]
  },
  {
   "cell_type": "markdown",
   "id": "b30a6531",
   "metadata": {},
   "source": [
    "## 3. Knowledge Check"
   ]
  },
  {
   "cell_type": "markdown",
   "id": "89114d13",
   "metadata": {},
   "source": [
    "### Exercise 1"
   ]
  },
  {
   "cell_type": "markdown",
   "id": "ba2d6291",
   "metadata": {},
   "source": [
    "Write a class called `Animal` with a method `sound()` that prints `\"Animal makes a sound\"`.\n",
    "Create a child class `Dog` that overrides `sound()` to print `\"Dog barks\"`."
   ]
  },
  {
   "cell_type": "code",
   "execution_count": null,
   "id": "e13a7a3f",
   "metadata": {},
   "outputs": [],
   "source": [
    "# Solution for Exercise 1\n",
    "class Animal:\n",
    "    def sound(self):\n",
    "        print(\"Animal makes a sound\")\n",
    "\n",
    "class Dog(Animal):\n",
    "    def sound(self):\n",
    "        print(\"Dog barks\")\n",
    "\n",
    "dog = Dog()\n",
    "dog.sound()"
   ]
  },
  {
   "cell_type": "markdown",
   "id": "ee77dd1f",
   "metadata": {},
   "source": [
    "### Exercise 2"
   ]
  },
  {
   "cell_type": "markdown",
   "id": "a697a669",
   "metadata": {},
   "source": [
    "Write a base class `Shape` with a method `area()`.\n",
    "Create two child classes:\n",
    "1. `Square` with an `area()` method to calculate the area of a square.\n",
    "2. `Triangle` with an `area()` method to calculate the area of a triangle."
   ]
  },
  {
   "cell_type": "code",
   "execution_count": null,
   "id": "8336a299",
   "metadata": {},
   "outputs": [],
   "source": [
    "# Solution for Exercise 2\n",
    "class Shape:\n",
    "    def area(self):\n",
    "        raise NotImplementedError(\"This method should be overridden.\")\n",
    "\n",
    "class Square(Shape):\n",
    "    def __init__(self, side):\n",
    "        self.side = side\n",
    "\n",
    "    def area(self):\n",
    "        return self.side ** 2\n",
    "\n",
    "class Triangle(Shape):\n",
    "    def __init__(self, base, height):\n",
    "        self.base = base\n",
    "        self.height = height\n",
    "\n",
    "    def area(self):\n",
    "        return 0.5 * self.base * self.height\n",
    "\n",
    "square = Square(4)\n",
    "triangle = Triangle(6, 3)\n",
    "\n",
    "print(\"Area of Square:\", square.area())\n",
    "print(\"Area of Triangle:\", triangle.area())"
   ]
  },
  {
   "cell_type": "markdown",
   "id": "935ddaae",
   "metadata": {},
   "source": [
    "### Exercise 3"
   ]
  },
  {
   "cell_type": "markdown",
   "id": "a89c0d9d",
   "metadata": {},
   "source": [
    "Write a class `BankAccount` with private attributes for `balance`.\n",
    "Create methods to:\n",
    "1. Deposit money.\n",
    "2. Withdraw money.\n",
    "3. Check balance."
   ]
  },
  {
   "cell_type": "code",
   "execution_count": null,
   "id": "cea341c2",
   "metadata": {},
   "outputs": [],
   "source": [
    "# Solution for Exercise 3\n",
    "class BankAccount:\n",
    "    def __init__(self, owner, balance=0):\n",
    "        self.owner = owner\n",
    "        self.__balance = balance\n",
    "\n",
    "    def deposit(self, amount):\n",
    "        if amount > 0:\n",
    "            self.__balance += amount\n",
    "            print(f\"Deposited {amount}. New balance is {self.__balance}.\")\n",
    "        else:\n",
    "            print(\"Deposit amount must be positive.\")\n",
    "\n",
    "    def withdraw(self, amount):\n",
    "        if 0 < amount <= self.__balance:\n",
    "            self.__balance -= amount\n",
    "            print(f\"Withdrew {amount}. New balance is {self.__balance}.\")\n",
    "        else:\n",
    "            print(\"Insufficient funds or invalid amount.\")\n",
    "\n",
    "    def check_balance(self):\n",
    "        print(f\"Current balance: {self.__balance}\")\n",
    "\n",
    "account = BankAccount(\"Bob\", 1000)\n",
    "account.deposit(500)\n",
    "account.withdraw(300)\n",
    "account.check_balance()"
   ]
  }
 ],
 "metadata": {
  "kernelspec": {
   "display_name": "Python 3 (ipykernel)",
   "language": "python",
   "name": "python3"
  },
  "language_info": {
   "codemirror_mode": {
    "name": "ipython",
    "version": 3
   },
   "file_extension": ".py",
   "mimetype": "text/x-python",
   "name": "python",
   "nbconvert_exporter": "python",
   "pygments_lexer": "ipython3",
   "version": "3.11.7"
  }
 },
 "nbformat": 4,
 "nbformat_minor": 5
}
