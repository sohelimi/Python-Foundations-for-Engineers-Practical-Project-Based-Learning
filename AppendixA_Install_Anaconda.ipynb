{
 "cells": [
  {
   "cell_type": "markdown",
   "id": "c7e2ecb9",
   "metadata": {},
   "source": [
    "# Appendix A: Install Anaconda in Windows and Mac\n",
    "\n",
    "Anaconda is a popular platform for data science and machine learning that includes Python, Jupyter Notebook, and numerous libraries. This guide walks you through installing Anaconda on Windows and Mac.\n"
   ]
  },
  {
   "cell_type": "markdown",
   "id": "ee9ac036",
   "metadata": {},
   "source": [
    "## Step 1: Download Anaconda\n",
    "1. Visit the [official Anaconda website](https://www.anaconda.com/).\n",
    "2. Navigate to the **\"Download\"** section.\n",
    "3. Select the version of Anaconda for your operating system:\n",
    "   - **Windows**\n",
    "   - **MacOS**\n",
    "4. Choose the appropriate Python version (typically Python 3.x) and download the installer.\n"
   ]
  },
  {
   "cell_type": "markdown",
   "id": "9895c2cb",
   "metadata": {},
   "source": [
    "## Step 2: Install Anaconda\n",
    "\n",
    "### **For Windows:**\n",
    "1. Locate the downloaded `.exe` installer and double-click to start the installation.\n",
    "2. Follow the prompts:\n",
    "   - Agree to the license agreement.\n",
    "   - Choose **Install for Just Me** unless you have admin privileges and want to make it available to all users.\n",
    "   - Select an installation location (default is recommended).\n",
    "   - Choose whether to add Anaconda to your PATH environment variable (not recommended) or register it as the default Python.\n",
    "3. Click **Install** and wait for the installation to complete.\n",
    "4. Once installed, click **Finish**.\n",
    "\n",
    "### **For MacOS:**\n",
    "1. Locate the `.pkg` file you downloaded.\n",
    "2. Double-click it to start the installation.\n",
    "3. Follow the prompts to agree to the license and select an installation location.\n",
    "4. Click **Install** and wait for the installation to complete.\n",
    "5. Verify the installation by opening the Terminal and running:\n",
    "   ```bash\n",
    "   conda --version\n",
    "   ```\n"
   ]
  },
  {
   "cell_type": "markdown",
   "id": "18bae2c8",
   "metadata": {},
   "source": [
    "## Step 3: Verify Installation\n",
    "1. Open a terminal (or Anaconda Prompt on Windows).\n",
    "2. Run the following commands to check if Anaconda is installed properly:\n",
    "   ```bash\n",
    "   conda --version\n",
    "   ```\n",
    "   This should return the version of Conda.\n",
    "\n",
    "3. Check the Python version installed with Anaconda:\n",
    "   ```bash\n",
    "   python --version\n",
    "   ```\n",
    "\n",
    "4. Open the Anaconda Navigator (optional but recommended for beginners):\n",
    "   - On Windows/Mac, search for \"Anaconda Navigator\" in your system's start menu or applications folder and launch it.\n",
    "   - On Linux, you can launch it using the terminal:\n",
    "     ```bash\n",
    "     anaconda-navigator\n",
    "     ```"
   ]
  },
  {
   "cell_type": "markdown",
   "id": "b133eacc",
   "metadata": {},
   "source": [
    "## Step 4: Update Anaconda (Optional but Recommended)\n",
    "To ensure you have the latest updates, run:\n",
    "```bash\n",
    "conda update --all\n",
    "```"
   ]
  },
  {
   "cell_type": "markdown",
   "id": "42d9d944",
   "metadata": {},
   "source": [
    "## Knowledge Check: Installation Verification and Environment Setup\n",
    "\n",
    "### Problem 1\n",
    "Run the following commands in a terminal or Anaconda Prompt to verify your installation:\n",
    "- Verify Conda version:\n",
    "  ```bash\n",
    "  conda --version\n",
    "  ```\n",
    "- Verify Python version:\n",
    "  ```bash\n",
    "  python --version\n",
    "  ```\n",
    "\n",
    "### Problem 2\n",
    "Create a virtual environment named `test_env` using the following command:\n",
    "```bash\n",
    "conda create --name test_env python=3.9\n",
    "```\n",
    "Activate the environment and install the `numpy` package:\n",
    "```bash\n",
    "conda activate test_env\n",
    "conda install numpy\n",
    "```\n",
    "Verify that `numpy` is installed by running:\n",
    "```bash\n",
    "python -c \"import numpy; print(numpy.__version__)\"\n",
    "```"
   ]
  },
  {
   "cell_type": "code",
   "execution_count": null,
   "id": "fa946084",
   "metadata": {},
   "outputs": [],
   "source": [
    "# Problem 1 Solution\n",
    "# Verify Conda version\n",
    "!conda --version\n",
    "\n",
    "# Verify Python version\n",
    "!python --version"
   ]
  },
  {
   "cell_type": "code",
   "execution_count": null,
   "id": "64f25dba",
   "metadata": {},
   "outputs": [],
   "source": [
    "# Problem 2 Solution\n",
    "# Create and activate a virtual environment\n",
    "!conda create --name test_env python=3.9 --yes\n",
    "!conda activate test_env\n",
    "\n",
    "# Install numpy in the environment\n",
    "!conda install numpy --yes\n",
    "\n",
    "# Verify numpy installation\n",
    "!python -c \"import numpy; print(numpy.__version__)\""
   ]
  }
 ],
 "metadata": {
  "kernelspec": {
   "display_name": "Python 3 (ipykernel)",
   "language": "python",
   "name": "python3"
  },
  "language_info": {
   "codemirror_mode": {
    "name": "ipython",
    "version": 3
   },
   "file_extension": ".py",
   "mimetype": "text/x-python",
   "name": "python",
   "nbconvert_exporter": "python",
   "pygments_lexer": "ipython3",
   "version": "3.11.7"
  }
 },
 "nbformat": 4,
 "nbformat_minor": 5
}
