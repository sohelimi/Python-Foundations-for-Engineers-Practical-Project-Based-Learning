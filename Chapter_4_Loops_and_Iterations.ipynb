{
 "cells": [
  {
   "cell_type": "markdown",
   "id": "abc7baa5",
   "metadata": {},
   "source": [
    "# Chapter 4: Loops and Iterations"
   ]
  },
  {
   "cell_type": "markdown",
   "id": "95e6a566",
   "metadata": {},
   "source": [
    "## 1. Theory: Using `for` and `while` Loops, Loop Control with `break` and `continue`"
   ]
  },
  {
   "cell_type": "markdown",
   "id": "bbda2e07",
   "metadata": {},
   "source": [
    "### `for` Loops\n",
    "A `for` loop is used to iterate over a sequence (like a list, string, or range of numbers).\n",
    "```python\n",
    "for item in sequence:\n",
    "    # Code to execute\n",
    "```\n",
    "\n",
    "#### Example:\n",
    "```python\n",
    "for i in range(5):\n",
    "    print(i)\n",
    "```\n",
    "\n",
    "### `while` Loops\n",
    "A `while` loop continues to execute as long as a condition is `True`.\n",
    "```python\n",
    "while condition:\n",
    "    # Code to execute\n",
    "```\n",
    "\n",
    "#### Example:\n",
    "```python\n",
    "count = 0\n",
    "while count < 5:\n",
    "    print(count)\n",
    "    count += 1\n",
    "```\n",
    "\n",
    "### Loop Control\n",
    "- **`break`**: Terminates the loop prematurely.\n",
    "- **`continue`**: Skips the rest of the current iteration and moves to the next.\n",
    "\n",
    "#### Example with `break`:\n",
    "```python\n",
    "for i in range(5):\n",
    "    if i == 3:\n",
    "        break\n",
    "    print(i)\n",
    "```\n",
    "\n",
    "#### Example with `continue`:\n",
    "```python\n",
    "for i in range(5):\n",
    "    if i == 3:\n",
    "        continue\n",
    "    print(i)\n",
    "```"
   ]
  },
  {
   "cell_type": "markdown",
   "id": "7f835004",
   "metadata": {},
   "source": [
    "## 2. Example Code: Iterating Over Lists and Ranges, Basic Iterative Problem-Solving"
   ]
  },
  {
   "cell_type": "code",
   "execution_count": null,
   "id": "b93e1ab0",
   "metadata": {},
   "outputs": [],
   "source": [
    "# Example 1: Iterating over a list\n",
    "fruits = [\"apple\", \"banana\", \"cherry\"]\n",
    "for fruit in fruits:\n",
    "    print(\"I like\", fruit)"
   ]
  },
  {
   "cell_type": "code",
   "execution_count": null,
   "id": "33958bfd",
   "metadata": {},
   "outputs": [],
   "source": [
    "# Example 2: Iterating with range\n",
    "for num in range(1, 6):\n",
    "    print(\"Number:\", num)"
   ]
  },
  {
   "cell_type": "code",
   "execution_count": null,
   "id": "bdf37ffe",
   "metadata": {},
   "outputs": [],
   "source": [
    "# Example 3: Using `while` to sum numbers\n",
    "total = 0\n",
    "count = 1\n",
    "while count <= 5:\n",
    "    total += count\n",
    "    count += 1\n",
    "print(\"Sum of numbers from 1 to 5 is:\", total)"
   ]
  },
  {
   "cell_type": "markdown",
   "id": "81114643",
   "metadata": {},
   "source": [
    "## 3. Knowledge Check"
   ]
  },
  {
   "cell_type": "markdown",
   "id": "ebb5f2c0",
   "metadata": {},
   "source": [
    "### Exercise 1"
   ]
  },
  {
   "cell_type": "markdown",
   "id": "6667bb1e",
   "metadata": {},
   "source": [
    "Write a program that:\n",
    "1. Prints all even numbers from 1 to 20.\n",
    "2. Use a `for` loop to achieve this."
   ]
  },
  {
   "cell_type": "code",
   "execution_count": null,
   "id": "a6ce9938",
   "metadata": {},
   "outputs": [],
   "source": [
    "# Solution for Exercise 1\n",
    "for num in range(1, 21):\n",
    "    if num % 2 == 0:\n",
    "        print(num)"
   ]
  },
  {
   "cell_type": "markdown",
   "id": "05bbd7d4",
   "metadata": {},
   "source": [
    "### Exercise 2"
   ]
  },
  {
   "cell_type": "markdown",
   "id": "e808883f",
   "metadata": {},
   "source": [
    "Write a program that:\n",
    "1. Takes a list of numbers as input.\n",
    "2. Stops printing numbers if a `0` is encountered, using `break`."
   ]
  },
  {
   "cell_type": "code",
   "execution_count": null,
   "id": "b78231aa",
   "metadata": {},
   "outputs": [],
   "source": [
    "# Solution for Exercise 2\n",
    "numbers = [5, 3, 7, 0, 9, 4]\n",
    "for num in numbers:\n",
    "    if num == 0:\n",
    "        break\n",
    "    print(num)"
   ]
  },
  {
   "cell_type": "markdown",
   "id": "651b4797",
   "metadata": {},
   "source": [
    "### Exercise 3"
   ]
  },
  {
   "cell_type": "markdown",
   "id": "3e32649e",
   "metadata": {},
   "source": [
    "Write a program that:\n",
    "1. Prints numbers from 1 to 10.\n",
    "2. Skips the number `5` using `continue`."
   ]
  },
  {
   "cell_type": "code",
   "execution_count": null,
   "id": "2fad7384",
   "metadata": {},
   "outputs": [],
   "source": [
    "# Solution for Exercise 3\n",
    "for num in range(1, 11):\n",
    "    if num == 5:\n",
    "        continue\n",
    "    print(num)"
   ]
  }
 ],
 "metadata": {
  "kernelspec": {
   "display_name": "Python 3 (ipykernel)",
   "language": "python",
   "name": "python3"
  },
  "language_info": {
   "codemirror_mode": {
    "name": "ipython",
    "version": 3
   },
   "file_extension": ".py",
   "mimetype": "text/x-python",
   "name": "python",
   "nbconvert_exporter": "python",
   "pygments_lexer": "ipython3",
   "version": "3.11.7"
  }
 },
 "nbformat": 4,
 "nbformat_minor": 5
}
