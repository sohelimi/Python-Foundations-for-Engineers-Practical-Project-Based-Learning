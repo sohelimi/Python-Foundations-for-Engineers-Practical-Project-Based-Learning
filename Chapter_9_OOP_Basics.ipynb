{
 "cells": [
  {
   "cell_type": "markdown",
   "id": "0079d588",
   "metadata": {},
   "source": [
    "# Chapter 9: Object-Oriented Programming (OOP) Basics"
   ]
  },
  {
   "cell_type": "markdown",
   "id": "4183a7be",
   "metadata": {},
   "source": [
    "## 1. Theory: Introduction to Classes, Objects, Attributes, and Methods"
   ]
  },
  {
   "cell_type": "markdown",
   "id": "26d5ef3f",
   "metadata": {},
   "source": [
    "### Object-Oriented Programming (OOP)\n",
    "OOP is a programming paradigm based on the concept of \"objects,\" which contain data and methods to operate on that data.\n",
    "\n",
    "#### Key Concepts:\n",
    "- **Classes**: Blueprints for creating objects.\n",
    "- **Objects**: Instances of a class.\n",
    "- **Attributes**: Variables associated with an object.\n",
    "- **Methods**: Functions defined within a class that operate on its attributes.\n",
    "\n",
    "#### Example:\n",
    "```python\n",
    "class Car:\n",
    "    def __init__(self, brand, color):\n",
    "        self.brand = brand  # Attribute\n",
    "        self.color = color  # Attribute\n",
    "\n",
    "    def drive(self):  # Method\n",
    "        print(f\"The {self.color} {self.brand} is driving.\")\n",
    "\n",
    "# Creating an object\n",
    "my_car = Car(\"Toyota\", \"red\")\n",
    "my_car.drive()\n",
    "```"
   ]
  },
  {
   "cell_type": "markdown",
   "id": "2ded8b1e",
   "metadata": {},
   "source": [
    "## 2. Example Code: Define Simple Classes to Represent Engineering Components"
   ]
  },
  {
   "cell_type": "code",
   "execution_count": null,
   "id": "37c0488f",
   "metadata": {},
   "outputs": [],
   "source": [
    "# Example 1: Representing a material with attributes\n",
    "class Material:\n",
    "    def __init__(self, name, density):\n",
    "        self.name = name\n",
    "        self.density = density\n",
    "\n",
    "    def display_properties(self):\n",
    "        print(f\"Material: {self.name}, Density: {self.density} kg/m³\")\n",
    "\n",
    "steel = Material(\"Steel\", 7850)\n",
    "steel.display_properties()"
   ]
  },
  {
   "cell_type": "code",
   "execution_count": null,
   "id": "c8d5f2a7",
   "metadata": {},
   "outputs": [],
   "source": [
    "# Example 2: Representing a rectangle for engineering calculations\n",
    "class Rectangle:\n",
    "    def __init__(self, length, width):\n",
    "        self.length = length\n",
    "        self.width = width\n",
    "\n",
    "    def area(self):\n",
    "        return self.length * self.width\n",
    "\n",
    "    def perimeter(self):\n",
    "        return 2 * (self.length + self.width)\n",
    "\n",
    "rect = Rectangle(5, 3)\n",
    "print(\"Area:\", rect.area())\n",
    "print(\"Perimeter:\", rect.perimeter())"
   ]
  },
  {
   "cell_type": "code",
   "execution_count": null,
   "id": "c5086de1",
   "metadata": {},
   "outputs": [],
   "source": [
    "# Example 3: A class to represent a beam in civil engineering\n",
    "class Beam:\n",
    "    def __init__(self, length, material):\n",
    "        self.length = length\n",
    "        self.material = material\n",
    "\n",
    "    def describe(self):\n",
    "        print(f\"Beam length: {self.length} meters, Material: {self.material}\")\n",
    "\n",
    "beam = Beam(10, \"Concrete\")\n",
    "beam.describe()"
   ]
  },
  {
   "cell_type": "markdown",
   "id": "025f6f1a",
   "metadata": {},
   "source": [
    "## 3. Knowledge Check"
   ]
  },
  {
   "cell_type": "markdown",
   "id": "b80c149c",
   "metadata": {},
   "source": [
    "### Exercise 1"
   ]
  },
  {
   "cell_type": "markdown",
   "id": "ef705768",
   "metadata": {},
   "source": [
    "Write a class called `Circle` that:\n",
    "1. Has an attribute `radius`.\n",
    "2. Includes a method to calculate and return the area of the circle."
   ]
  },
  {
   "cell_type": "code",
   "execution_count": null,
   "id": "82bd35c4",
   "metadata": {},
   "outputs": [],
   "source": [
    "# Solution for Exercise 1\n",
    "import math\n",
    "\n",
    "class Circle:\n",
    "    def __init__(self, radius):\n",
    "        self.radius = radius\n",
    "\n",
    "    def area(self):\n",
    "        return math.pi * (self.radius ** 2)\n",
    "\n",
    "circle = Circle(5)\n",
    "print(\"Area of the circle:\", circle.area())"
   ]
  },
  {
   "cell_type": "markdown",
   "id": "f78d4f13",
   "metadata": {},
   "source": [
    "### Exercise 2"
   ]
  },
  {
   "cell_type": "markdown",
   "id": "09ee5a9b",
   "metadata": {},
   "source": [
    "Write a class called `Vehicle` that:\n",
    "1. Has attributes `brand` and `speed`.\n",
    "2. Includes a method to print a message like: `\"The [brand] is moving at [speed] km/h.\"`"
   ]
  },
  {
   "cell_type": "code",
   "execution_count": null,
   "id": "027d835e",
   "metadata": {},
   "outputs": [],
   "source": [
    "# Solution for Exercise 2\n",
    "class Vehicle:\n",
    "    def __init__(self, brand, speed):\n",
    "        self.brand = brand\n",
    "        self.speed = speed\n",
    "\n",
    "    def describe(self):\n",
    "        print(f\"The {self.brand} is moving at {self.speed} km/h.\")\n",
    "\n",
    "vehicle = Vehicle(\"Honda\", 80)\n",
    "vehicle.describe()"
   ]
  },
  {
   "cell_type": "markdown",
   "id": "afbb4274",
   "metadata": {},
   "source": [
    "### Exercise 3"
   ]
  },
  {
   "cell_type": "markdown",
   "id": "23e09ae3",
   "metadata": {},
   "source": [
    "Write a class called `Triangle` that:\n",
    "1. Has attributes `base` and `height`.\n",
    "2. Includes a method to calculate and return the area of the triangle."
   ]
  },
  {
   "cell_type": "code",
   "execution_count": null,
   "id": "771fb8ef",
   "metadata": {},
   "outputs": [],
   "source": [
    "# Solution for Exercise 3\n",
    "class Triangle:\n",
    "    def __init__(self, base, height):\n",
    "        self.base = base\n",
    "        self.height = height\n",
    "\n",
    "    def area(self):\n",
    "        return 0.5 * self.base * self.height\n",
    "\n",
    "triangle = Triangle(10, 5)\n",
    "print(\"Area of the triangle:\", triangle.area())"
   ]
  }
 ],
 "metadata": {
  "kernelspec": {
   "display_name": "Python 3 (ipykernel)",
   "language": "python",
   "name": "python3"
  },
  "language_info": {
   "codemirror_mode": {
    "name": "ipython",
    "version": 3
   },
   "file_extension": ".py",
   "mimetype": "text/x-python",
   "name": "python",
   "nbconvert_exporter": "python",
   "pygments_lexer": "ipython3",
   "version": "3.11.7"
  }
 },
 "nbformat": 4,
 "nbformat_minor": 5
}
