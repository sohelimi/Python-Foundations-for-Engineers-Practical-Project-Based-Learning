{
 "cells": [
  {
   "cell_type": "markdown",
   "id": "0fb21320",
   "metadata": {},
   "source": [
    "# Chapter 13: Capstone Project: Multi-Concept Engineering Solution"
   ]
  },
  {
   "cell_type": "markdown",
   "id": "d3e7ad5f",
   "metadata": {},
   "source": [
    "## 1. Theory: Review of Skills"
   ]
  },
  {
   "cell_type": "markdown",
   "id": "ac45f27e",
   "metadata": {},
   "source": [
    "### Review of Concepts\n",
    "In this capstone project, you will apply the skills learned in the previous chapters:\n",
    "1. **Python Basics**: Variables, data types, conditionals, and loops.\n",
    "2. **Data Structures**: Lists, dictionaries, tuples, and sets.\n",
    "3. **File Handling**: Reading from and writing to files.\n",
    "4. **Object-Oriented Programming (OOP)**: Classes, inheritance, and polymorphism.\n",
    "5. **Libraries**: Using NumPy, Pandas, and Matplotlib for computations, data handling, and visualizations.\n",
    "\n",
    "The project aims to integrate these concepts to solve a real-world engineering problem."
   ]
  },
  {
   "cell_type": "markdown",
   "id": "845ab600",
   "metadata": {},
   "source": [
    "## 2. Example Code: Capstone Project - Bridge Load Analysis"
   ]
  },
  {
   "cell_type": "code",
   "execution_count": null,
   "id": "5e53371f",
   "metadata": {},
   "outputs": [],
   "source": [
    "# Example Capstone Project: Bridge Load Analysis\n",
    "\n",
    "import numpy as np\n",
    "import pandas as pd\n",
    "import matplotlib.pyplot as plt\n",
    "\n",
    "# Step 1: Define a class for materials\n",
    "class Material:\n",
    "    def __init__(self, name, density, elastic_modulus):\n",
    "        self.name = name\n",
    "        self.density = density  # in kg/m^3\n",
    "        self.elastic_modulus = elastic_modulus  # in GPa\n",
    "\n",
    "    def display_properties(self):\n",
    "        print(f\"Material: {self.name}\")\n",
    "        print(f\"Density: {self.density} kg/m^3\")\n",
    "        print(f\"Elastic Modulus: {self.elastic_modulus} GPa\")\n",
    "\n",
    "# Step 2: Define materials\n",
    "steel = Material(\"Steel\", 7850, 210)\n",
    "concrete = Material(\"Concrete\", 2400, 30)\n",
    "\n",
    "# Step 3: Create a data structure for bridge components\n",
    "components = pd.DataFrame({\n",
    "    \"Component\": [\"Beam\", \"Column\", \"Deck\"],\n",
    "    \"Material\": [\"Steel\", \"Concrete\", \"Steel\"],\n",
    "    \"Length (m)\": [10, 5, 20],\n",
    "    \"Width (m)\": [0.3, 0.3, 10],\n",
    "    \"Height (m)\": [0.5, 5, 0.2]\n",
    "})\n",
    "\n",
    "# Step 4: Calculate the volume of each component\n",
    "components[\"Volume (m^3)\"] = components[\"Length (m)\"] * components[\"Width (m)\"] * components[\"Height (m)\"]\n",
    "\n",
    "# Step 5: Assign densities to materials\n",
    "density_map = {\"Steel\": 7850, \"Concrete\": 2400}\n",
    "components[\"Density (kg/m^3)\"] = components[\"Material\"].map(density_map)\n",
    "\n",
    "# Step 6: Calculate the weight of each component\n",
    "components[\"Weight (kg)\"] = components[\"Volume (m^3)\"] * components[\"Density (kg/m^3)\"]\n",
    "\n",
    "# Step 7: Display the components and their weights\n",
    "print(\"Bridge Components:\")\n",
    "print(components)\n",
    "\n",
    "# Step 8: Visualize the weight distribution\n",
    "plt.bar(components[\"Component\"], components[\"Weight (kg)\"], color=['blue', 'gray', 'blue'])\n",
    "plt.xlabel(\"Component\")\n",
    "plt.ylabel(\"Weight (kg)\")\n",
    "plt.title(\"Weight Distribution of Bridge Components\")\n",
    "plt.show()"
   ]
  },
  {
   "cell_type": "markdown",
   "id": "d717fefb",
   "metadata": {},
   "source": [
    "## 3. Knowledge Check: Capstone Project Setup with Detailed Goals"
   ]
  },
  {
   "cell_type": "markdown",
   "id": "fc0a5dea",
   "metadata": {},
   "source": [
    "### Project Goal\n",
    "Design a data analysis and visualization program for a small bridge project, focusing on:\n",
    "1. Material selection and properties.\n",
    "2. Component weight analysis.\n",
    "3. Visualization of results.\n",
    "\n",
    "### Tasks\n",
    "1. Define a class for materials with attributes for density and strength.\n",
    "2. Create a DataFrame for bridge components.\n",
    "3. Calculate and visualize the weight distribution."
   ]
  },
  {
   "cell_type": "code",
   "execution_count": null,
   "id": "7b91ccac",
   "metadata": {},
   "outputs": [],
   "source": [
    "# Solution for Capstone Setup\n",
    "\n",
    "# Step 1: Define Material Class\n",
    "class Material:\n",
    "    def __init__(self, name, density, strength):\n",
    "        self.name = name\n",
    "        self.density = density  # kg/m^3\n",
    "        self.strength = strength  # MPa\n",
    "\n",
    "    def __str__(self):\n",
    "        return f\"{self.name}: Density={self.density} kg/m^3, Strength={self.strength} MPa\"\n",
    "\n",
    "# Step 2: Define Materials\n",
    "steel = Material(\"Steel\", 7850, 500)\n",
    "concrete = Material(\"Concrete\", 2400, 40)\n",
    "\n",
    "print(steel)\n",
    "print(concrete)\n",
    "\n",
    "# Step 3: Create DataFrame\n",
    "import pandas as pd\n",
    "\n",
    "bridge_components = pd.DataFrame({\n",
    "    \"Component\": [\"Beam\", \"Column\", \"Deck\"],\n",
    "    \"Material\": [\"Steel\", \"Concrete\", \"Steel\"],\n",
    "    \"Length (m)\": [10, 5, 20],\n",
    "    \"Width (m)\": [0.3, 0.3, 10],\n",
    "    \"Height (m)\": [0.5, 5, 0.2]\n",
    "})\n",
    "\n",
    "# Step 4: Calculate Volume and Weight\n",
    "density_map = {\"Steel\": 7850, \"Concrete\": 2400}\n",
    "bridge_components[\"Volume (m^3)\"] = bridge_components[\"Length (m)\"] * bridge_components[\"Width (m)\"] * bridge_components[\"Height (m)\"]\n",
    "bridge_components[\"Density (kg/m^3)\"] = bridge_components[\"Material\"].map(density_map)\n",
    "bridge_components[\"Weight (kg)\"] = bridge_components[\"Volume (m^3)\"] * bridge_components[\"Density (kg/m^3)\"]\n",
    "\n",
    "print(bridge_components)\n",
    "\n",
    "# Step 5: Visualization\n",
    "import matplotlib.pyplot as plt\n",
    "\n",
    "plt.bar(bridge_components[\"Component\"], bridge_components[\"Weight (kg)\"], color=['blue', 'gray', 'orange'])\n",
    "plt.title(\"Weight Distribution of Bridge Components\")\n",
    "plt.xlabel(\"Component\")\n",
    "plt.ylabel(\"Weight (kg)\")\n",
    "plt.show()"
   ]
  }
 ],
 "metadata": {
  "kernelspec": {
   "display_name": "Python 3 (ipykernel)",
   "language": "python",
   "name": "python3"
  },
  "language_info": {
   "codemirror_mode": {
    "name": "ipython",
    "version": 3
   },
   "file_extension": ".py",
   "mimetype": "text/x-python",
   "name": "python",
   "nbconvert_exporter": "python",
   "pygments_lexer": "ipython3",
   "version": "3.11.7"
  }
 },
 "nbformat": 4,
 "nbformat_minor": 5
}
